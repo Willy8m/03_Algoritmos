{
 "cells": [
  {
   "cell_type": "markdown",
   "id": "3f0b6166-cad2-4da4-8334-6d7ac25fa944",
   "metadata": {},
   "source": [
    "# Algoritmos de optimización - Seminario<br>\n",
    "Nombre y Apellidos: Guillem Barta Gonzàlez<br>\n",
    "https://github.com/Willy8m/03_Algoritmos/SEMINARIO\n",
    "\n",
    "Problema:\n",
    "> 1. Sesiones de doblaje <br>\n",
    "\n",
    "Se precisa coordinar el doblaje de una película. Los actores del doblaje deben coincidir en las tomas en las que sus personajes aparecen juntos en las diferentes tomas. Los actores de doblaje cobran todos la misma cantidad por cada día que deben desplazarse hasta el estudio de grabación independientemente del número de tomas que se graben. No es posible grabar más de 6 tomas por día. El objetivo es planificar las sesiones por día de manera que el gasto por los servicios de los actores de doblaje sea el menor posible. \n",
    "\n",
    "Los datos son: \n",
    "- Número de actores: 10 \n",
    "- Número de tomas : 30\n",
    "- Actores/Tomas : https://bit.ly/36D8IuK\n",
    "  - 1 indica que el actor participa en la toma\n",
    "  - 0 en caso contrario\n",
    "\n",
    "### Información clave\n",
    "\n",
    "Hay que encontrar que combinación de tomas resulta en el menor número de dias de doblaje.\n",
    "\n",
    "Restricciones a tener en cuenta:\n",
    "- Cada actor puede completar cómo máximo, 6 tomas al día.\n",
    "- Los actores de una misma toma deben asistir el mismo día para grabar dicha toma.\n",
    "\n",
    "(*) La respuesta es obligatoria"
   ]
  },
  {
   "cell_type": "markdown",
   "id": "55044bea-cba4-4b84-b3d6-1017fc4f436e",
   "metadata": {},
   "source": [
    "## 0. Importamos librerias y cargamos los datos"
   ]
  },
  {
   "cell_type": "code",
   "execution_count": 1,
   "id": "0180d4a5-e763-417c-84d7-50d8d0bb2a1f",
   "metadata": {},
   "outputs": [],
   "source": [
    "import math\n",
    "import pandas as pd\n",
    "import numpy as np\n",
    "from decimal import Decimal"
   ]
  },
  {
   "cell_type": "code",
   "execution_count": 2,
   "id": "a32d9e3f-5f69-48d6-92e4-d2a07aa70698",
   "metadata": {
    "scrolled": true
   },
   "outputs": [],
   "source": [
    "# Load data\n",
    "df = pd.read_excel('Datos problema doblaje(30 tomas, 10 actores).xlsx', header = 1, index_col = 0)"
   ]
  },
  {
   "cell_type": "code",
   "execution_count": 3,
   "id": "3f2bc3ac-0eb1-4778-a081-7fd6d4807d55",
   "metadata": {},
   "outputs": [
    {
     "data": {
      "text/html": [
       "<div>\n",
       "<style scoped>\n",
       "    .dataframe tbody tr th:only-of-type {\n",
       "        vertical-align: middle;\n",
       "    }\n",
       "\n",
       "    .dataframe tbody tr th {\n",
       "        vertical-align: top;\n",
       "    }\n",
       "\n",
       "    .dataframe thead th {\n",
       "        text-align: right;\n",
       "    }\n",
       "</style>\n",
       "<table border=\"1\" class=\"dataframe\">\n",
       "  <thead>\n",
       "    <tr style=\"text-align: right;\">\n",
       "      <th></th>\n",
       "      <th>1</th>\n",
       "      <th>2</th>\n",
       "      <th>3</th>\n",
       "      <th>4</th>\n",
       "      <th>5</th>\n",
       "      <th>6</th>\n",
       "      <th>7</th>\n",
       "      <th>8</th>\n",
       "      <th>9</th>\n",
       "      <th>10</th>\n",
       "    </tr>\n",
       "    <tr>\n",
       "      <th>Toma</th>\n",
       "      <th></th>\n",
       "      <th></th>\n",
       "      <th></th>\n",
       "      <th></th>\n",
       "      <th></th>\n",
       "      <th></th>\n",
       "      <th></th>\n",
       "      <th></th>\n",
       "      <th></th>\n",
       "      <th></th>\n",
       "    </tr>\n",
       "  </thead>\n",
       "  <tbody>\n",
       "    <tr>\n",
       "      <th>1</th>\n",
       "      <td>1</td>\n",
       "      <td>1</td>\n",
       "      <td>1</td>\n",
       "      <td>1</td>\n",
       "      <td>1</td>\n",
       "      <td>0</td>\n",
       "      <td>0</td>\n",
       "      <td>0</td>\n",
       "      <td>0</td>\n",
       "      <td>0</td>\n",
       "    </tr>\n",
       "    <tr>\n",
       "      <th>2</th>\n",
       "      <td>0</td>\n",
       "      <td>0</td>\n",
       "      <td>1</td>\n",
       "      <td>1</td>\n",
       "      <td>1</td>\n",
       "      <td>0</td>\n",
       "      <td>0</td>\n",
       "      <td>0</td>\n",
       "      <td>0</td>\n",
       "      <td>0</td>\n",
       "    </tr>\n",
       "    <tr>\n",
       "      <th>3</th>\n",
       "      <td>0</td>\n",
       "      <td>1</td>\n",
       "      <td>0</td>\n",
       "      <td>0</td>\n",
       "      <td>1</td>\n",
       "      <td>0</td>\n",
       "      <td>1</td>\n",
       "      <td>0</td>\n",
       "      <td>0</td>\n",
       "      <td>0</td>\n",
       "    </tr>\n",
       "    <tr>\n",
       "      <th>4</th>\n",
       "      <td>1</td>\n",
       "      <td>1</td>\n",
       "      <td>0</td>\n",
       "      <td>0</td>\n",
       "      <td>0</td>\n",
       "      <td>0</td>\n",
       "      <td>1</td>\n",
       "      <td>1</td>\n",
       "      <td>0</td>\n",
       "      <td>0</td>\n",
       "    </tr>\n",
       "    <tr>\n",
       "      <th>5</th>\n",
       "      <td>0</td>\n",
       "      <td>1</td>\n",
       "      <td>0</td>\n",
       "      <td>1</td>\n",
       "      <td>0</td>\n",
       "      <td>0</td>\n",
       "      <td>0</td>\n",
       "      <td>1</td>\n",
       "      <td>0</td>\n",
       "      <td>0</td>\n",
       "    </tr>\n",
       "    <tr>\n",
       "      <th>6</th>\n",
       "      <td>1</td>\n",
       "      <td>1</td>\n",
       "      <td>0</td>\n",
       "      <td>1</td>\n",
       "      <td>1</td>\n",
       "      <td>0</td>\n",
       "      <td>0</td>\n",
       "      <td>0</td>\n",
       "      <td>0</td>\n",
       "      <td>0</td>\n",
       "    </tr>\n",
       "    <tr>\n",
       "      <th>7</th>\n",
       "      <td>1</td>\n",
       "      <td>1</td>\n",
       "      <td>0</td>\n",
       "      <td>1</td>\n",
       "      <td>1</td>\n",
       "      <td>0</td>\n",
       "      <td>0</td>\n",
       "      <td>0</td>\n",
       "      <td>0</td>\n",
       "      <td>0</td>\n",
       "    </tr>\n",
       "    <tr>\n",
       "      <th>8</th>\n",
       "      <td>1</td>\n",
       "      <td>1</td>\n",
       "      <td>0</td>\n",
       "      <td>0</td>\n",
       "      <td>0</td>\n",
       "      <td>1</td>\n",
       "      <td>0</td>\n",
       "      <td>0</td>\n",
       "      <td>0</td>\n",
       "      <td>0</td>\n",
       "    </tr>\n",
       "    <tr>\n",
       "      <th>9</th>\n",
       "      <td>1</td>\n",
       "      <td>1</td>\n",
       "      <td>0</td>\n",
       "      <td>1</td>\n",
       "      <td>0</td>\n",
       "      <td>0</td>\n",
       "      <td>0</td>\n",
       "      <td>0</td>\n",
       "      <td>0</td>\n",
       "      <td>0</td>\n",
       "    </tr>\n",
       "    <tr>\n",
       "      <th>10</th>\n",
       "      <td>1</td>\n",
       "      <td>1</td>\n",
       "      <td>0</td>\n",
       "      <td>0</td>\n",
       "      <td>0</td>\n",
       "      <td>1</td>\n",
       "      <td>0</td>\n",
       "      <td>0</td>\n",
       "      <td>1</td>\n",
       "      <td>0</td>\n",
       "    </tr>\n",
       "    <tr>\n",
       "      <th>11</th>\n",
       "      <td>1</td>\n",
       "      <td>1</td>\n",
       "      <td>1</td>\n",
       "      <td>0</td>\n",
       "      <td>1</td>\n",
       "      <td>0</td>\n",
       "      <td>0</td>\n",
       "      <td>1</td>\n",
       "      <td>0</td>\n",
       "      <td>0</td>\n",
       "    </tr>\n",
       "    <tr>\n",
       "      <th>12</th>\n",
       "      <td>1</td>\n",
       "      <td>1</td>\n",
       "      <td>1</td>\n",
       "      <td>1</td>\n",
       "      <td>0</td>\n",
       "      <td>1</td>\n",
       "      <td>0</td>\n",
       "      <td>0</td>\n",
       "      <td>0</td>\n",
       "      <td>0</td>\n",
       "    </tr>\n",
       "    <tr>\n",
       "      <th>13</th>\n",
       "      <td>1</td>\n",
       "      <td>0</td>\n",
       "      <td>0</td>\n",
       "      <td>1</td>\n",
       "      <td>1</td>\n",
       "      <td>0</td>\n",
       "      <td>0</td>\n",
       "      <td>0</td>\n",
       "      <td>0</td>\n",
       "      <td>0</td>\n",
       "    </tr>\n",
       "    <tr>\n",
       "      <th>14</th>\n",
       "      <td>1</td>\n",
       "      <td>0</td>\n",
       "      <td>1</td>\n",
       "      <td>0</td>\n",
       "      <td>0</td>\n",
       "      <td>1</td>\n",
       "      <td>0</td>\n",
       "      <td>0</td>\n",
       "      <td>0</td>\n",
       "      <td>0</td>\n",
       "    </tr>\n",
       "    <tr>\n",
       "      <th>15</th>\n",
       "      <td>1</td>\n",
       "      <td>1</td>\n",
       "      <td>0</td>\n",
       "      <td>0</td>\n",
       "      <td>0</td>\n",
       "      <td>0</td>\n",
       "      <td>1</td>\n",
       "      <td>0</td>\n",
       "      <td>0</td>\n",
       "      <td>0</td>\n",
       "    </tr>\n",
       "    <tr>\n",
       "      <th>16</th>\n",
       "      <td>0</td>\n",
       "      <td>0</td>\n",
       "      <td>0</td>\n",
       "      <td>1</td>\n",
       "      <td>0</td>\n",
       "      <td>0</td>\n",
       "      <td>0</td>\n",
       "      <td>0</td>\n",
       "      <td>0</td>\n",
       "      <td>1</td>\n",
       "    </tr>\n",
       "    <tr>\n",
       "      <th>17</th>\n",
       "      <td>1</td>\n",
       "      <td>0</td>\n",
       "      <td>1</td>\n",
       "      <td>0</td>\n",
       "      <td>0</td>\n",
       "      <td>0</td>\n",
       "      <td>0</td>\n",
       "      <td>0</td>\n",
       "      <td>0</td>\n",
       "      <td>0</td>\n",
       "    </tr>\n",
       "    <tr>\n",
       "      <th>18</th>\n",
       "      <td>0</td>\n",
       "      <td>0</td>\n",
       "      <td>1</td>\n",
       "      <td>0</td>\n",
       "      <td>0</td>\n",
       "      <td>1</td>\n",
       "      <td>0</td>\n",
       "      <td>0</td>\n",
       "      <td>0</td>\n",
       "      <td>0</td>\n",
       "    </tr>\n",
       "    <tr>\n",
       "      <th>19</th>\n",
       "      <td>1</td>\n",
       "      <td>0</td>\n",
       "      <td>1</td>\n",
       "      <td>0</td>\n",
       "      <td>0</td>\n",
       "      <td>0</td>\n",
       "      <td>0</td>\n",
       "      <td>0</td>\n",
       "      <td>0</td>\n",
       "      <td>0</td>\n",
       "    </tr>\n",
       "    <tr>\n",
       "      <th>20</th>\n",
       "      <td>1</td>\n",
       "      <td>0</td>\n",
       "      <td>1</td>\n",
       "      <td>1</td>\n",
       "      <td>1</td>\n",
       "      <td>0</td>\n",
       "      <td>0</td>\n",
       "      <td>0</td>\n",
       "      <td>0</td>\n",
       "      <td>0</td>\n",
       "    </tr>\n",
       "    <tr>\n",
       "      <th>21</th>\n",
       "      <td>0</td>\n",
       "      <td>0</td>\n",
       "      <td>0</td>\n",
       "      <td>0</td>\n",
       "      <td>0</td>\n",
       "      <td>1</td>\n",
       "      <td>0</td>\n",
       "      <td>1</td>\n",
       "      <td>0</td>\n",
       "      <td>0</td>\n",
       "    </tr>\n",
       "    <tr>\n",
       "      <th>22</th>\n",
       "      <td>1</td>\n",
       "      <td>1</td>\n",
       "      <td>1</td>\n",
       "      <td>1</td>\n",
       "      <td>0</td>\n",
       "      <td>0</td>\n",
       "      <td>0</td>\n",
       "      <td>0</td>\n",
       "      <td>0</td>\n",
       "      <td>0</td>\n",
       "    </tr>\n",
       "    <tr>\n",
       "      <th>23</th>\n",
       "      <td>1</td>\n",
       "      <td>0</td>\n",
       "      <td>1</td>\n",
       "      <td>0</td>\n",
       "      <td>0</td>\n",
       "      <td>0</td>\n",
       "      <td>0</td>\n",
       "      <td>0</td>\n",
       "      <td>0</td>\n",
       "      <td>0</td>\n",
       "    </tr>\n",
       "    <tr>\n",
       "      <th>24</th>\n",
       "      <td>0</td>\n",
       "      <td>0</td>\n",
       "      <td>1</td>\n",
       "      <td>0</td>\n",
       "      <td>0</td>\n",
       "      <td>1</td>\n",
       "      <td>0</td>\n",
       "      <td>0</td>\n",
       "      <td>0</td>\n",
       "      <td>0</td>\n",
       "    </tr>\n",
       "    <tr>\n",
       "      <th>25</th>\n",
       "      <td>1</td>\n",
       "      <td>1</td>\n",
       "      <td>0</td>\n",
       "      <td>1</td>\n",
       "      <td>0</td>\n",
       "      <td>0</td>\n",
       "      <td>0</td>\n",
       "      <td>0</td>\n",
       "      <td>0</td>\n",
       "      <td>1</td>\n",
       "    </tr>\n",
       "    <tr>\n",
       "      <th>26</th>\n",
       "      <td>1</td>\n",
       "      <td>0</td>\n",
       "      <td>1</td>\n",
       "      <td>0</td>\n",
       "      <td>1</td>\n",
       "      <td>0</td>\n",
       "      <td>0</td>\n",
       "      <td>0</td>\n",
       "      <td>1</td>\n",
       "      <td>0</td>\n",
       "    </tr>\n",
       "    <tr>\n",
       "      <th>27</th>\n",
       "      <td>0</td>\n",
       "      <td>0</td>\n",
       "      <td>0</td>\n",
       "      <td>1</td>\n",
       "      <td>1</td>\n",
       "      <td>0</td>\n",
       "      <td>0</td>\n",
       "      <td>0</td>\n",
       "      <td>0</td>\n",
       "      <td>0</td>\n",
       "    </tr>\n",
       "    <tr>\n",
       "      <th>28</th>\n",
       "      <td>1</td>\n",
       "      <td>0</td>\n",
       "      <td>0</td>\n",
       "      <td>1</td>\n",
       "      <td>0</td>\n",
       "      <td>0</td>\n",
       "      <td>0</td>\n",
       "      <td>0</td>\n",
       "      <td>0</td>\n",
       "      <td>0</td>\n",
       "    </tr>\n",
       "    <tr>\n",
       "      <th>29</th>\n",
       "      <td>1</td>\n",
       "      <td>0</td>\n",
       "      <td>0</td>\n",
       "      <td>0</td>\n",
       "      <td>1</td>\n",
       "      <td>1</td>\n",
       "      <td>0</td>\n",
       "      <td>0</td>\n",
       "      <td>0</td>\n",
       "      <td>0</td>\n",
       "    </tr>\n",
       "    <tr>\n",
       "      <th>30</th>\n",
       "      <td>1</td>\n",
       "      <td>0</td>\n",
       "      <td>0</td>\n",
       "      <td>1</td>\n",
       "      <td>0</td>\n",
       "      <td>0</td>\n",
       "      <td>0</td>\n",
       "      <td>0</td>\n",
       "      <td>0</td>\n",
       "      <td>0</td>\n",
       "    </tr>\n",
       "  </tbody>\n",
       "</table>\n",
       "</div>"
      ],
      "text/plain": [
       "      1  2  3  4  5  6  7  8  9  10\n",
       "Toma                               \n",
       "1     1  1  1  1  1  0  0  0  0   0\n",
       "2     0  0  1  1  1  0  0  0  0   0\n",
       "3     0  1  0  0  1  0  1  0  0   0\n",
       "4     1  1  0  0  0  0  1  1  0   0\n",
       "5     0  1  0  1  0  0  0  1  0   0\n",
       "6     1  1  0  1  1  0  0  0  0   0\n",
       "7     1  1  0  1  1  0  0  0  0   0\n",
       "8     1  1  0  0  0  1  0  0  0   0\n",
       "9     1  1  0  1  0  0  0  0  0   0\n",
       "10    1  1  0  0  0  1  0  0  1   0\n",
       "11    1  1  1  0  1  0  0  1  0   0\n",
       "12    1  1  1  1  0  1  0  0  0   0\n",
       "13    1  0  0  1  1  0  0  0  0   0\n",
       "14    1  0  1  0  0  1  0  0  0   0\n",
       "15    1  1  0  0  0  0  1  0  0   0\n",
       "16    0  0  0  1  0  0  0  0  0   1\n",
       "17    1  0  1  0  0  0  0  0  0   0\n",
       "18    0  0  1  0  0  1  0  0  0   0\n",
       "19    1  0  1  0  0  0  0  0  0   0\n",
       "20    1  0  1  1  1  0  0  0  0   0\n",
       "21    0  0  0  0  0  1  0  1  0   0\n",
       "22    1  1  1  1  0  0  0  0  0   0\n",
       "23    1  0  1  0  0  0  0  0  0   0\n",
       "24    0  0  1  0  0  1  0  0  0   0\n",
       "25    1  1  0  1  0  0  0  0  0   1\n",
       "26    1  0  1  0  1  0  0  0  1   0\n",
       "27    0  0  0  1  1  0  0  0  0   0\n",
       "28    1  0  0  1  0  0  0  0  0   0\n",
       "29    1  0  0  0  1  1  0  0  0   0\n",
       "30    1  0  0  1  0  0  0  0  0   0"
      ]
     },
     "execution_count": 3,
     "metadata": {},
     "output_type": "execute_result"
    }
   ],
   "source": [
    "# Drop columns and rows to keep only the data\n",
    "data = df[:-2].copy() # drop two last rows\n",
    "data.drop(columns=[\"Unnamed: 11\", \"Total\"], inplace=True)  # drop two last columns\n",
    "data = data.astype(int)\n",
    "data"
   ]
  },
  {
   "cell_type": "markdown",
   "id": "2fe5077c-d4cd-4ced-8b18-e25e02839f6f",
   "metadata": {},
   "source": [
    "En la tabla se observan 30 filas, que corresponden a las tomas, y 10 columnas, que corresponden a los actores. Un actor asiste a una toma si hay un 1 en la posición correspondiente."
   ]
  },
  {
   "cell_type": "markdown",
   "id": "82b3213f-67eb-48f1-b33f-0125ebf7e257",
   "metadata": {},
   "source": [
    "## 1. __(*)¿Cuantas posibilidades hay sin tener en cuenta las restricciones?__<br>\n",
    "\n",
    "El número de posibilidades se rige por la agrupación, sin orden, en grupos de tomas por día. Así, las posibilidades van desde tener todas las tomas el mismo día, a tener todas las tomas separadas en días distintos (caso menos eficiente).\n",
    "\n",
    "Para calcular el número de agrupaciones diferentes con 30 elementos usamos el número de Bell $B_{n}$ [2], donde \"$n$\" corresponde al número de elementos. Podemos visualizar el número de Bell con el siguiente dibujo, extraido de wikipedia:\n",
    "\n",
    "![a](https://upload.wikimedia.org/wikipedia/commons/thumb/1/19/Set_partitions_5%3B_circles.svg/220px-Set_partitions_5%3B_circles.svg.png)\n",
    "\n",
    "\n",
    "De un algoritmo para calcular números de Bell de Rajeev Agrawal [3] se obtiene que existen $8.47E+23$ posibles soluciones:"
   ]
  },
  {
   "cell_type": "code",
   "execution_count": 4,
   "id": "5ce4b2dc-096b-438b-900e-d2ac3ececced",
   "metadata": {},
   "outputs": [
    {
     "name": "stdout",
     "output_type": "stream",
     "text": [
      "Possibilities:  8.47E+23\n"
     ]
    }
   ],
   "source": [
    "# code credit: Rajeev Agrawal\n",
    "# python program to find number of ways of partitioning it.\n",
    "n = 30\n",
    "s = [[0 for _ in range(n+1)] for _ in range(n+1)]\n",
    "for i in range(n+1):\n",
    "    for j in range(n+1):\n",
    "        if j > i:\n",
    "            continue\n",
    "        elif(i==j):\n",
    "            s[i][j] = 1\n",
    "        elif(i==0 or j==0):\n",
    "            s[i][j]=0\n",
    "        else:\n",
    "            s[i][j] = j*s[i-1][j] + s[i-1][j-1]\n",
    "ans = 0\n",
    "for i in range(0,n+1):\n",
    "    ans+=s[n][i]\n",
    "print(\"Possibilities: \", '%.2E' % Decimal(ans))"
   ]
  },
  {
   "cell_type": "markdown",
   "id": "a3184fd9-2392-43e5-9ecd-89d74892f75b",
   "metadata": {},
   "source": [
    "## 2. __¿Cuantas posibilidades hay teniendo en cuenta todas las restricciones?__"
   ]
  },
  {
   "cell_type": "markdown",
   "id": "530d4ac6-3421-46bb-9485-4dab816c0234",
   "metadata": {},
   "source": [
    "Teniendo en cuenta las restricciones, el número de posibbles combinaciones de tomas y días dependerá de la ocupación de los actores en cada toma. De módo que el número de posibles agrupaciones depende de los datos específicos de cada problema.\n",
    "\n",
    "Es posible que exista una estructura de datos más adecuada que nos permita calcular este número."
   ]
  },
  {
   "cell_type": "markdown",
   "id": "36ddb2de-8e38-4832-b8da-ac56e7a3d508",
   "metadata": {},
   "source": [
    "## 3. __(*) ¿Cual es la estructura de datos que mejor se adapta al problema? Argumentalo.(Es posible que hayas elegido una al principio y veas la necesidad de cambiar, arguentalo)__"
   ]
  },
  {
   "cell_type": "markdown",
   "id": "42663098-7c63-4bac-9798-ba8bca6d3904",
   "metadata": {},
   "source": [
    "En un principio, elegí una lista de listas binárias, dónde los valores binários representaban la asistencia de un actor a una toma en particular. Es decir, justo la estructura que se nos brinda en el archivo de datos .xlsx\n",
    "\n",
    "Posteriormente me dí cuenta (después de leer el estudio de Alberto [1]) de que la estructura que se ajusta mejor, es una lista de listas ````sol````, dónde cada lista contiene las tomas que se van a grabar en un determinado día. Con un 1 o un 0 en la posición de la lista correspondiente a cada toma. "
   ]
  },
  {
   "cell_type": "markdown",
   "id": "0dec01a7-874e-48f9-95a9-b8ad5461f97a",
   "metadata": {},
   "source": [
    "Por ejemplo, consideremos la siguiente solcuión:"
   ]
  },
  {
   "cell_type": "code",
   "execution_count": 23,
   "id": "c9ba6c96-077a-42f2-948a-d33abe7611e7",
   "metadata": {},
   "outputs": [],
   "source": [
    "# Una toma el primer día, y las otras dos el segundo\n",
    "#             toma   1 2 3\n",
    "example_solution = [[1,0,0], # día 1\n",
    "                    [0,1,1]] # día 2"
   ]
  },
  {
   "cell_type": "markdown",
   "id": "f2e43d7c-3af7-4af5-b61b-753547cd5d80",
   "metadata": {},
   "source": [
    "Además, con esta estructura podemos controlar fácilmente el número de días que se requieren para grabar todas las tomas con:\n",
    "\n",
    "```python\n",
    "sol: list[list[bool]]\n",
    "dias = len(sol)\n",
    "```\n",
    "\n",
    "Además, esta estructura es conveniente para comprobar que la cantidad de tomas por actor al día no supera el máximo establecido ````max_shots = 6````, con operaciones matriciales ````@```` y ndarrays:\n",
    "\n",
    "```python\n",
    "sol: numpy.array\n",
    "invalid_sol = any([any((sol[day] @ data) > max_shots) for day in range(len(sol))])\n",
    "```\n",
    "\n",
    "Dónde ````data```` es nuestro dataframe de actor por toma"
   ]
  },
  {
   "cell_type": "markdown",
   "id": "15b95985-9db4-4b84-9600-64c15a745bf8",
   "metadata": {},
   "source": [
    "## 4. __(*)Según el modelo para el espacio de soluciones ¿Cual es la función objetivo?__"
   ]
  },
  {
   "cell_type": "markdown",
   "id": "358d63b0-e3c6-4c78-ba29-1223768a9b9d",
   "metadata": {},
   "source": [
    "La función objetivo es aquella que nos calcule el número de días a partir de una solución propuesta. \n",
    "\n",
    "Esto se corresponde al número de dias de nuestra solución, que es la longitud de nuestra lista:"
   ]
  },
  {
   "cell_type": "code",
   "execution_count": 5,
   "id": "1e178ef3-ac41-4f5e-a5e3-886afbe1eff2",
   "metadata": {},
   "outputs": [],
   "source": [
    "def days(sol):\n",
    "    return len(sol)"
   ]
  },
  {
   "cell_type": "markdown",
   "id": "d414f9ab-6561-4ac1-a5e2-a28ac4d090bc",
   "metadata": {},
   "source": [
    "Y el número de días se puede calcular fácilmente:"
   ]
  },
  {
   "cell_type": "code",
   "execution_count": 7,
   "id": "73d3be51-f5e3-4b1c-b95c-f6c31787bed0",
   "metadata": {},
   "outputs": [
    {
     "data": {
      "text/plain": [
       "2"
      ]
     },
     "execution_count": 7,
     "metadata": {},
     "output_type": "execute_result"
    }
   ],
   "source": [
    "days(example_solution)"
   ]
  },
  {
   "cell_type": "markdown",
   "id": "966c1793-b7da-4e1c-aeb3-ac387cf1c1cd",
   "metadata": {},
   "source": [
    "Crearemos una función ````is_valid()````, que validará si la solución cumple las restricciones del problema."
   ]
  },
  {
   "cell_type": "code",
   "execution_count": 8,
   "id": "54225cc2-8096-4b27-be8e-90af8e227c18",
   "metadata": {},
   "outputs": [],
   "source": [
    "def is_valid(sol: np.array, data: np.array, max_shots: int = 6):\n",
    "    \n",
    "    # Si falta alguna toma por asignar, devuelve False\n",
    "    if any(np.sum(sol, axis=0) != 1): return False  \n",
    "\n",
    "    # Si se usa un actor más de \"max_shots\" veces en un día, devuelve False\n",
    "    if any([any((sol[day] @ data) > max_shots) for day in range(len(sol))]): return False\n",
    "\n",
    "    # En cualquier otro caso la solución es válida y devuelve True\n",
    "    return True"
   ]
  },
  {
   "cell_type": "markdown",
   "id": "28494735-5493-4e7f-938b-6c1ad7b10b0d",
   "metadata": {},
   "source": [
    "Por ejemplo si queremos grabar todas las tomas el mismo día, con un máximo de 2 tomas al día por actor, y con los siguientes datos de ejemplo (donde las columnas corresponden a los actores y las filas a las tomas):"
   ]
  },
  {
   "cell_type": "code",
   "execution_count": 11,
   "id": "0b730611-7176-4d10-8c78-104f0ced044d",
   "metadata": {},
   "outputs": [],
   "source": [
    "#          actor 1 2 3\n",
    "example_data = [[1,1,0], # toma 1\n",
    "                [1,1,0], # toma 2\n",
    "                [1,0,1]] # toma 3"
   ]
  },
  {
   "cell_type": "code",
   "execution_count": 12,
   "id": "e4242281-537e-4608-9ee0-0e8ba1823a4e",
   "metadata": {},
   "outputs": [
    {
     "data": {
      "text/plain": [
       "False"
      ]
     },
     "execution_count": 12,
     "metadata": {},
     "output_type": "execute_result"
    }
   ],
   "source": [
    "# ejemplo: todas las tomas el mismo día, incumpliendo el máximo de 2 tomas al día por actor\n",
    "\n",
    "is_valid(\n",
    "    \n",
    "    #          toma  1 2 3     \n",
    "    sol = np.array([[1,1,1],   # día 1\n",
    "                    [0,0,0]]), # día 2\n",
    "    \n",
    "    data = np.array(example_data),\n",
    "    max_shots = 2\n",
    ")"
   ]
  },
  {
   "cell_type": "markdown",
   "id": "3b8e6844-cbd2-49b1-bca5-1508d8d3c184",
   "metadata": {},
   "source": [
    "## 5. __(*)¿Es un problema de maximización o minimización?__"
   ]
  },
  {
   "cell_type": "markdown",
   "id": "6bbefc7d-4eb9-4958-9e60-5540f8b09c9a",
   "metadata": {},
   "source": [
    "Es un problema de minimización, ya que se pretende minimizar el número de días necesarios para grabar todas las tomas. Aunque por otro lado, se pretende maximizar el número de tomas por día, todo depende de cómo se plantee el espacio de soluciones y la variable a optimizar.\n",
    "\n",
    "Lo que está claro es que este problema es del tipo del de la mochila, tenemos que meter todas las tomas en el menor número de mochilas posibles. De modo que la buena organización de cada mochila es imprescindible."
   ]
  },
  {
   "cell_type": "markdown",
   "id": "e572a2c5-a135-42d9-bb37-fbe37cebeac6",
   "metadata": {},
   "source": [
    "## 6. __Diseña un algoritmo para resolver el problema por fuerza bruta__"
   ]
  },
  {
   "cell_type": "code",
   "execution_count": 10,
   "id": "f512a89b-d03b-4f61-907b-04320f8ca060",
   "metadata": {
    "jupyter": {
     "source_hidden": true
    }
   },
   "outputs": [],
   "source": [
    "def brute_force_solve(data, max_shots=6):\n",
    "\n",
    "    # Obtener el número mínimo de días teóricos\n",
    "    min_day = (max(np.sum(data, axis = 0)) // max_shots) + 1 * (0 != max(np.sum(data, axis = 0)) % max_shots)\n",
    "\n",
    "    # Preparar la estructura de datos solución\n",
    "    solution = np.zeros((min_day, len(data)), dtype=int)\n",
    "    solution[0] = 1\n",
    "\n",
    "    days, shots = solution.shape\n",
    "    c = 0  # contador de posición\n",
    "\n",
    "    # Recorrer todas las posibles soluciones hasta encontrar la buena\n",
    "    for pos in range(shots):\n",
    "        c += 1\n",
    "        for shot in range(c):\n",
    "            \n",
    "            for day in range(days):\n",
    "\n",
    "                print(pos, shot, day)\n",
    "                #print(solution)\n",
    "                \n",
    "                if is_valid(solution, data, max_shots):\n",
    "                    \n",
    "                    return solution\n",
    "                    \n",
    "                solution[day, shot] = 0\n",
    "                solution[(day+1)%days, shot] = 1\n",
    "        \n",
    "    "
   ]
  },
  {
   "cell_type": "code",
   "execution_count": 11,
   "id": "d8f72f60-7696-4228-9406-857b0d660e6d",
   "metadata": {
    "jupyter": {
     "source_hidden": true
    }
   },
   "outputs": [],
   "source": [
    "a = np.array([[0, 1],\n",
    "              [0, 1],\n",
    "              [0, 1],\n",
    "              [0, 1]])"
   ]
  },
  {
   "cell_type": "code",
   "execution_count": 12,
   "id": "6d5626e3-b411-4bee-b20b-443cce7c4574",
   "metadata": {
    "collapsed": true,
    "jupyter": {
     "outputs_hidden": true,
     "source_hidden": true
    }
   },
   "outputs": [
    {
     "name": "stdout",
     "output_type": "stream",
     "text": [
      "0 0 0\n",
      "0 0 1\n",
      "1 0 0\n",
      "1 0 1\n",
      "1 1 0\n",
      "1 1 1\n",
      "2 0 0\n",
      "2 0 1\n",
      "2 1 0\n",
      "2 1 1\n",
      "2 2 0\n",
      "2 2 1\n",
      "3 0 0\n",
      "3 0 1\n",
      "3 1 0\n",
      "3 1 1\n",
      "3 2 0\n",
      "3 2 1\n",
      "3 3 0\n",
      "3 3 1\n"
     ]
    }
   ],
   "source": [
    "sol = brute_force_solve(a, max_shots=2)"
   ]
  },
  {
   "cell_type": "code",
   "execution_count": 13,
   "id": "c7647b8d-b55c-42ee-8718-168f2b06d0b1",
   "metadata": {
    "jupyter": {
     "source_hidden": true
    }
   },
   "outputs": [
    {
     "name": "stdout",
     "output_type": "stream",
     "text": [
      "None\n"
     ]
    }
   ],
   "source": [
    "print(sol)"
   ]
  },
  {
   "cell_type": "markdown",
   "id": "5db676f3-06da-46f0-bf83-dbc333e1e1be",
   "metadata": {},
   "source": [
    "No he conseguido implementar bien el algoritmo para que dé soluciones válidas, aunque analizaré su complejidad actual ya que sería parecida a la de un algoritmo de fuerza bruta."
   ]
  },
  {
   "cell_type": "markdown",
   "id": "e1381fbb-6dfe-4f7b-a184-cfbb2a9e64c4",
   "metadata": {},
   "source": [
    "## 7. __Calcula la complejidad del algoritmo por fuerza bruta__"
   ]
  },
  {
   "cell_type": "markdown",
   "id": "b7bb9bef-8ba0-4e72-8f81-cc7f0e52d5c4",
   "metadata": {
    "jupyter": {
     "source_hidden": true
    }
   },
   "source": [
    "La complejidad del algoritmo por fuerza bruta es del orden de $O(dn^2)$ dónde $d$ son los mínimos días posibles de la solución, que a su vez se puede expresar cómo $n/m$ en el peor de los casos, dónde $m$ son el máximo de tomas por actor al día.\n",
    "\n",
    "Así que se puede expresar también cómo $O(n^3/m)$"
   ]
  },
  {
   "cell_type": "markdown",
   "id": "173b263a-d382-4025-b586-2ce9962ad9f4",
   "metadata": {},
   "source": [
    "## 8. __(*)Diseña un algoritmo que mejore la complejidad del algortimo por fuerza bruta. Argumenta porque crees que mejora el algoritmo por fuerza bruta__"
   ]
  },
  {
   "cell_type": "markdown",
   "id": "00ba4785-e0db-4876-8e9b-d64b710f4b0b",
   "metadata": {},
   "source": [
    "### 1. Solución por búsqueda aleatoria\n",
    "\n",
    "Vamos a generar un algoritmo de generación de soluciones aleatorias, hasta encontrar una solución que nos dé un número de días suficientemente corto.\n",
    "\n",
    "Aunque vamos a generar soluciones aleatorias, debemos tener en cuenta que existe un número máximo de días (solución menos óptima), al igual que un número mínimo (solución ideal de existencia no asegurada):\n",
    "- **Número máximo de días:** El total de tomas dividido por el máximo de tomas por actor al día."
   ]
  },
  {
   "cell_type": "code",
   "execution_count": 14,
   "id": "2a28e5b4-4b32-4c08-99ce-505d174d867b",
   "metadata": {},
   "outputs": [
    {
     "data": {
      "text/plain": [
       "6"
      ]
     },
     "execution_count": 14,
     "metadata": {},
     "output_type": "execute_result"
    }
   ],
   "source": [
    "max_days = 1 + (len(data) // max_shots)\n",
    "max_days"
   ]
  },
  {
   "cell_type": "markdown",
   "id": "539009eb-f305-4827-b9b7-45395134fcd3",
   "metadata": {},
   "source": [
    "- **Número mínimo de días:** El número de tomas del actor con más participación dividido por el máximo de tomas por actor al día."
   ]
  },
  {
   "cell_type": "code",
   "execution_count": 15,
   "id": "81331404-2a3f-4485-9167-fbce09c48e0a",
   "metadata": {},
   "outputs": [
    {
     "data": {
      "text/plain": [
       "4"
      ]
     },
     "execution_count": 15,
     "metadata": {},
     "output_type": "execute_result"
    }
   ],
   "source": [
    "def min_days(data, max_shots):\n",
    "    return (max(np.sum(data, axis = 0)) // max_shots) + 1 * (0 != max(np.sum(data, axis = 0)) % max_shots)\n",
    "\n",
    "min_days(data, 6)"
   ]
  },
  {
   "cell_type": "markdown",
   "id": "9fad8daf-8ea0-4dda-8366-47d810aaad35",
   "metadata": {},
   "source": [
    "Dónde ````data```` es nuestro dataframe de actor por toma"
   ]
  },
  {
   "cell_type": "code",
   "execution_count": 16,
   "id": "ae220689-b757-41cc-832a-ed077f9a5760",
   "metadata": {},
   "outputs": [],
   "source": [
    "def generate_random_solution(data: pd.DataFrame, days_objective: int, max_shots: int = 6):\n",
    "    \n",
    "    random_solution = np.zeros((days_objective, len(data)), dtype=int)  # Inicializar el array soluicón, dónde las filas representan los días, y las columnas las tomas\n",
    "    assigned_days = np.random.randint(0, days_objective, size=len(data))  # Asignar cada toma a un día\n",
    "    \n",
    "    for day, toma in enumerate(assigned_days):\n",
    "        random_solution[toma, day] = 1  # Transformar la asignación de días a formato booleano\n",
    "\n",
    "    return random_solution"
   ]
  },
  {
   "cell_type": "markdown",
   "id": "9b8c7df4-94a5-48b9-8c3f-ec5faf797bd9",
   "metadata": {},
   "source": [
    "Ahora, vamos a diseñar un algoritmo que recorra un bucle hasta encontrar una solución válida. Además, incluiremos un control para tiempos de iteración demasiado largos, que podremos acotar con el parámetro ````max_iter````."
   ]
  },
  {
   "cell_type": "code",
   "execution_count": 17,
   "id": "eab4c4ac-9338-40c6-93b1-6cac09040110",
   "metadata": {},
   "outputs": [],
   "source": [
    "def solve_for_N_days(ndays: int, data, max_iter=1000):\n",
    "    for _ in range(max_iter):\n",
    "        proposed_sol = generate_random_solution(data, days_objective = ndays)\n",
    "        if is_valid(proposed_sol, data):\n",
    "            return proposed_sol\n",
    "\n",
    "    return None"
   ]
  },
  {
   "cell_type": "markdown",
   "id": "bc675d8c-cea9-4eca-9653-78d6182197b3",
   "metadata": {},
   "source": [
    "Y, en caso de no encontrar una solución en ese número de iteraciones, buscaremos una solución con un día más."
   ]
  },
  {
   "cell_type": "code",
   "execution_count": 18,
   "id": "36936b41-266e-4df6-8f81-a7c8b9f3a1d0",
   "metadata": {},
   "outputs": [],
   "source": [
    "def random_solve(data: pd.DataFrame, max_shots=6, max_iter=1000):\n",
    "\n",
    "    # Obtener el número máximo y mínimo de días teóricos\n",
    "    min_day = min_days(data, max_shots)\n",
    "    max_days = 1 + (len(data) // max_shots)\n",
    "    \n",
    "    # inicialización de la variable de control de días con un número arbitráriamente grande\n",
    "    best_sol_days = 10000\n",
    "\n",
    "    # loop de búsqueda de soluciones\n",
    "    for ndays in range(min_day, max_days + 1):\n",
    "        solution = solve_for_N_days(ndays, data, max_iter)\n",
    "        if solution is not None:\n",
    "            return ndays, solution "
   ]
  },
  {
   "cell_type": "code",
   "execution_count": 19,
   "id": "83dbc72e-e4ba-46e8-9e0e-765d8adf8fb6",
   "metadata": {
    "scrolled": true
   },
   "outputs": [
    {
     "name": "stdout",
     "output_type": "stream",
     "text": [
      "CPU times: total: 31.2 ms\n",
      "Wall time: 21.9 ms\n"
     ]
    },
    {
     "data": {
      "text/plain": [
       "(4,\n",
       " True,\n",
       " array([[0, 0, 0, 0, 0, 0, 0, 0, 1, 0, 0, 0, 0, 0, 0, 1, 0, 0, 1, 1, 1, 1,\n",
       "         1, 0, 0, 0, 1, 0, 0, 0],\n",
       "        [0, 1, 0, 0, 1, 1, 0, 0, 0, 1, 0, 0, 0, 0, 1, 0, 0, 1, 0, 0, 0, 0,\n",
       "         0, 1, 0, 0, 0, 1, 1, 0],\n",
       "        [0, 0, 1, 0, 0, 0, 0, 1, 0, 0, 1, 1, 1, 0, 0, 0, 1, 0, 0, 0, 0, 0,\n",
       "         0, 0, 1, 0, 0, 0, 0, 0],\n",
       "        [1, 0, 0, 1, 0, 0, 1, 0, 0, 0, 0, 0, 0, 1, 0, 0, 0, 0, 0, 0, 0, 0,\n",
       "         0, 0, 0, 1, 0, 0, 0, 1]]))"
      ]
     },
     "execution_count": 19,
     "metadata": {},
     "output_type": "execute_result"
    }
   ],
   "source": [
    "%%time\n",
    "best_sol_days, best_sol_found = random_solve(data, max_iter=1000)\n",
    "best_sol_days, is_valid(best_sol_found, data), best_sol_found"
   ]
  },
  {
   "cell_type": "markdown",
   "id": "fc1aea80-0d32-43a2-a52d-d6cf215b26e1",
   "metadata": {},
   "source": [
    "Se puede observar cómo el algoritmo random_solve consigue encontrar una solución para grabar todas las tomas en 4 días. De hecho, aproximadamente entre un 6-7% de las soluciones generadas por la función ````generate_random_solution()```` serán válidas para 4 días:"
   ]
  },
  {
   "cell_type": "code",
   "execution_count": 20,
   "id": "5dd9096b-4ede-4634-bc62-af0b423ab519",
   "metadata": {},
   "outputs": [],
   "source": [
    "def percentage_of_good_solutions(ndays, data):\n",
    "    print(f\"Porcentaje de soluciones válidas generadas para {ndays} días:\", sum([is_valid(generate_random_solution(data, days_objective=ndays), data) for _ in range(10000)]) / 100, \"%\")"
   ]
  },
  {
   "cell_type": "code",
   "execution_count": 21,
   "id": "762a7f6e-1303-40b0-bee1-4000cca028cb",
   "metadata": {},
   "outputs": [
    {
     "name": "stdout",
     "output_type": "stream",
     "text": [
      "Porcentaje de soluciones válidas generadas para 1 días: 0.0 %\n",
      "Porcentaje de soluciones válidas generadas para 2 días: 0.0 %\n",
      "Porcentaje de soluciones válidas generadas para 3 días: 0.0 %\n",
      "Porcentaje de soluciones válidas generadas para 4 días: 6.51 %\n",
      "Porcentaje de soluciones válidas generadas para 5 días: 37.68 %\n",
      "Porcentaje de soluciones válidas generadas para 6 días: 63.04 %\n"
     ]
    }
   ],
   "source": [
    "for i in range(1, max_days + 1):\n",
    "    percentage_of_good_solutions(i, data)"
   ]
  },
  {
   "cell_type": "markdown",
   "id": "295108e0-88cf-4e74-845c-8b6fe31428d7",
   "metadata": {},
   "source": [
    "Observamos que efectivamente no se encuentran soluciones para menos de 4 días, y a medida que se incrementan los días, la probabilidad de encontrar una solución es mayor. Con lo que se justifica el hecho de buscar soluciones en un número mayor de días si no se encuentran soluciones para un determinado número de días objetivo."
   ]
  },
  {
   "cell_type": "markdown",
   "id": "f4c3be80-97fb-4d03-b229-909a44f29436",
   "metadata": {},
   "source": [
    "### 2. Solución por optimización de espacio (incompleta)"
   ]
  },
  {
   "cell_type": "code",
   "execution_count": 22,
   "id": "70fdfc7b-efaa-410c-b5d1-10a6a48c3818",
   "metadata": {},
   "outputs": [],
   "source": [
    "def unavailable_slots(solution, data, max_shots) -> np.array(bool) :\n",
    "    return (solution @ data == max_shots)"
   ]
  },
  {
   "cell_type": "code",
   "execution_count": 23,
   "id": "a792d500-e6d1-4c05-9828-925afe6b55a1",
   "metadata": {},
   "outputs": [
    {
     "data": {
      "text/html": [
       "<div>\n",
       "<style scoped>\n",
       "    .dataframe tbody tr th:only-of-type {\n",
       "        vertical-align: middle;\n",
       "    }\n",
       "\n",
       "    .dataframe tbody tr th {\n",
       "        vertical-align: top;\n",
       "    }\n",
       "\n",
       "    .dataframe thead th {\n",
       "        text-align: right;\n",
       "    }\n",
       "</style>\n",
       "<table border=\"1\" class=\"dataframe\">\n",
       "  <thead>\n",
       "    <tr style=\"text-align: right;\">\n",
       "      <th></th>\n",
       "      <th>1</th>\n",
       "      <th>2</th>\n",
       "      <th>3</th>\n",
       "      <th>4</th>\n",
       "      <th>5</th>\n",
       "      <th>6</th>\n",
       "      <th>7</th>\n",
       "      <th>8</th>\n",
       "      <th>9</th>\n",
       "      <th>10</th>\n",
       "    </tr>\n",
       "  </thead>\n",
       "  <tbody>\n",
       "    <tr>\n",
       "      <th>0</th>\n",
       "      <td>False</td>\n",
       "      <td>False</td>\n",
       "      <td>False</td>\n",
       "      <td>False</td>\n",
       "      <td>False</td>\n",
       "      <td>False</td>\n",
       "      <td>False</td>\n",
       "      <td>False</td>\n",
       "      <td>False</td>\n",
       "      <td>False</td>\n",
       "    </tr>\n",
       "    <tr>\n",
       "      <th>1</th>\n",
       "      <td>False</td>\n",
       "      <td>False</td>\n",
       "      <td>False</td>\n",
       "      <td>False</td>\n",
       "      <td>False</td>\n",
       "      <td>False</td>\n",
       "      <td>False</td>\n",
       "      <td>False</td>\n",
       "      <td>False</td>\n",
       "      <td>False</td>\n",
       "    </tr>\n",
       "    <tr>\n",
       "      <th>2</th>\n",
       "      <td>True</td>\n",
       "      <td>False</td>\n",
       "      <td>False</td>\n",
       "      <td>False</td>\n",
       "      <td>False</td>\n",
       "      <td>False</td>\n",
       "      <td>False</td>\n",
       "      <td>False</td>\n",
       "      <td>False</td>\n",
       "      <td>False</td>\n",
       "    </tr>\n",
       "    <tr>\n",
       "      <th>3</th>\n",
       "      <td>True</td>\n",
       "      <td>False</td>\n",
       "      <td>False</td>\n",
       "      <td>False</td>\n",
       "      <td>False</td>\n",
       "      <td>False</td>\n",
       "      <td>False</td>\n",
       "      <td>False</td>\n",
       "      <td>False</td>\n",
       "      <td>False</td>\n",
       "    </tr>\n",
       "  </tbody>\n",
       "</table>\n",
       "</div>"
      ],
      "text/plain": [
       "       1      2      3      4      5      6      7      8      9     10\n",
       "0  False  False  False  False  False  False  False  False  False  False\n",
       "1  False  False  False  False  False  False  False  False  False  False\n",
       "2   True  False  False  False  False  False  False  False  False  False\n",
       "3   True  False  False  False  False  False  False  False  False  False"
      ]
     },
     "execution_count": 23,
     "metadata": {},
     "output_type": "execute_result"
    }
   ],
   "source": [
    "unavailable_slots(best_sol_found, data, max_shots)"
   ]
  },
  {
   "cell_type": "code",
   "execution_count": 24,
   "id": "2477cb1c-3b13-4a28-9f7a-a189086173a8",
   "metadata": {},
   "outputs": [],
   "source": [
    "def score_by_day(shot, solution, data, max_shots) -> np.array(int):\n",
    "    '''\n",
    "    Returns the fitting score of a shot in a given day.\n",
    "\n",
    "    The fitting score is the measure of how well a shot would fit in a day.\n",
    "    Measured with a logical XOR operation between the available actor slots\n",
    "    (from func unavailable_slots()) and the required actors in \"shot\".\n",
    "    '''\n",
    "    return np.sum(np.logical_xor(shot, unavailable_slots(solution, data, max_shots)), axis=1)"
   ]
  },
  {
   "cell_type": "code",
   "execution_count": 25,
   "id": "7e20e3e4-2a0e-4bdd-876a-5108159f2300",
   "metadata": {},
   "outputs": [],
   "source": [
    "def recursive_solve(solution, data, max_shots):\n",
    "    is_pending = np.logical_not(np.sum(solution, axis=0))\n",
    "\n",
    "    if any(is_pending):\n",
    "        pending_shots = data[:][is_pending]  # Get only the shots that are still not in the solution\n",
    "        scores = np.array([score_by_day(np.array(shot), solution, data, max_shots) for _, shot in\n",
    "                           pending_shots.iterrows()]).T  # Compute their xor scores\n",
    "        day, i = np.unravel_index(np.argmax(scores), scores.shape)  # Get the day and shot that best fit together\n",
    "        shot_id = pending_shots.index[i] - 1\n",
    "        solution[day, shot_id] = 1\n",
    "\n",
    "        recursive_solve(solution, data, max_shots)\n",
    "\n",
    "    return solution"
   ]
  },
  {
   "cell_type": "code",
   "execution_count": 26,
   "id": "1a07cc2d-778f-4481-a22a-8a1136dcb6b7",
   "metadata": {},
   "outputs": [],
   "source": [
    "def solve(data, max_shots):\n",
    "\n",
    "    min_day = min_days(data, max_shots)\n",
    "    solution = np.zeros((min_day, len(data)), dtype=int)\n",
    "    recursive_solve(solution, data, max_shots)\n",
    "    return solution"
   ]
  },
  {
   "cell_type": "code",
   "execution_count": 27,
   "id": "900a2571-b18d-4440-b62e-baf7902eaab6",
   "metadata": {},
   "outputs": [
    {
     "data": {
      "text/plain": [
       "30"
      ]
     },
     "execution_count": 27,
     "metadata": {},
     "output_type": "execute_result"
    }
   ],
   "source": [
    "min_day = min_days(data, max_shots)\n",
    "solution = np.zeros((min_day, len(data)), dtype=int)\n",
    "is_pending = np.logical_not(np.sum(solution, axis=0))\n",
    "np.sum(is_pending)"
   ]
  },
  {
   "cell_type": "code",
   "execution_count": 28,
   "id": "8c6c1be9-9061-4335-ab78-0484a3692768",
   "metadata": {},
   "outputs": [
    {
     "data": {
      "text/plain": [
       "array([[1, 1, 1, 1, 1, 1, 1, 1, 1, 1, 1, 1, 1, 0, 1, 1, 1, 1, 1, 1, 1, 1,\n",
       "        1, 1, 1, 1, 1, 1, 0, 1],\n",
       "       [0, 0, 0, 0, 0, 0, 0, 0, 0, 0, 0, 0, 0, 1, 0, 0, 0, 0, 0, 0, 0, 0,\n",
       "        0, 0, 0, 0, 0, 0, 1, 0],\n",
       "       [0, 0, 0, 0, 0, 0, 0, 0, 0, 0, 0, 0, 0, 0, 0, 0, 0, 0, 0, 0, 0, 0,\n",
       "        0, 0, 0, 0, 0, 0, 0, 0],\n",
       "       [0, 0, 0, 0, 0, 0, 0, 0, 0, 0, 0, 0, 0, 0, 0, 0, 0, 0, 0, 0, 0, 0,\n",
       "        0, 0, 0, 0, 0, 0, 0, 0]])"
      ]
     },
     "execution_count": 28,
     "metadata": {},
     "output_type": "execute_result"
    }
   ],
   "source": [
    "sol = solve(data, 6)\n",
    "sol"
   ]
  },
  {
   "cell_type": "code",
   "execution_count": 29,
   "id": "e8b61f31-4aac-4d21-a9c1-e210a036e90d",
   "metadata": {
    "scrolled": true
   },
   "outputs": [
    {
     "data": {
      "text/plain": [
       "False"
      ]
     },
     "execution_count": 29,
     "metadata": {},
     "output_type": "execute_result"
    }
   ],
   "source": [
    "is_valid(sol, data)"
   ]
  },
  {
   "cell_type": "markdown",
   "id": "c3c86649-df6d-4905-a975-fdebde14ccfe",
   "metadata": {},
   "source": [
    "No he podido conseguir implementar este algoritmo para que diera soluciones válidas"
   ]
  },
  {
   "cell_type": "markdown",
   "id": "167639bf-2c42-4173-85dc-e1151954e53f",
   "metadata": {},
   "source": [
    "## 9. __(*)Calcula la complejidad del algoritmo__"
   ]
  },
  {
   "cell_type": "markdown",
   "id": "59c390e5-3a5b-41dd-867d-4d3ffd35a645",
   "metadata": {},
   "source": [
    "Análisis de complejidad de los algoritmos:\n",
    "\n",
    "### 1. Por solución aleatoria\n",
    "\n",
    "- ````generate_random_solution()````: $O(n)$ La complejidad depende del número de tomas de forma lineal.\n",
    "\n",
    "- ````is_valid()````: $O(1)$ Depende del número de días de la solución, que acostumbran a ser pocos.\n",
    "\n",
    "- ````solve_for_N_days()````: $O(n \\cdot$ ````max_iter```` $)$ Depende linealmente del número de iteraciones máximas que indiquemos o menor, que es cuando se encuentra una solución.\n",
    "\n",
    "- ````random_solve()````: $O(n \\cdot$ ````min_days```` $ \\cdot $ ````max_iter```` $)$ Depende de los datos específicos del problema, sobretodo de la densidad de población. La densidad de población es la cantidad de unos del dataset dividido por el total de elementos.\n",
    "\n",
    "En este caso tiene más sentido hablar de probabilidiad de encontrar una solución válida, que de complejidad. Por eso el algoritmo no puede encontrar soluciones para una densidad del dataset un poco mayor, ya que la probabilidad de encontrar una solución se reduce con la falta de espacio.\n",
    "\n",
    "### 2. Por optimización de espacio (incompleto)\n",
    "\n",
    "- ````unavailable_slots()````: $O(1)$ Ya que se computa con operaciones matriciales optimizadas por numpy\n",
    "\n",
    "- ````score_by_day()````: $O(1)$ Ya que usa también operaciones matriciales optimizadas de numpy\n",
    "\n",
    "- ````recursive_solve()````: $O(n^2)$ Depende principalmente del número de tomas al cuadrado, ya que a medida que se van asignando espacios, la función se vuelve a llamar a sí misma con menos tomas cada vez. \n",
    "\n",
    "- ````solve()````:  El mismo orden que la anterior función, ya que simplemente sirve de encapsulamiento."
   ]
  },
  {
   "cell_type": "markdown",
   "id": "26e51fe7-e823-4b4f-82d8-89cb967ede67",
   "metadata": {},
   "source": [
    "## 10. __Según el problema (y tenga sentido), diseña un juego de datos de entrada aleatorios__"
   ]
  },
  {
   "cell_type": "markdown",
   "id": "0960840f-83e3-4a6c-8715-3c790a56a436",
   "metadata": {},
   "source": [
    "Para diseñar un juego de datos aleatorio, pero con sentido, debemos asegurar que todas las tomas tienen al menos un actor presente.\n",
    "Para controlar la densidad de ocupación de las tomas, es decir, la densidad de población, añadiremos un parámetro:\n",
    "\n",
    "- ````population_density````: fracción entre 0 y 1 que indicará la fracción de ocupación de tomas respecto al total"
   ]
  },
  {
   "cell_type": "code",
   "execution_count": 13,
   "id": "8768731a-dbab-4b8a-97aa-f5b797b2eeba",
   "metadata": {},
   "outputs": [],
   "source": [
    "def generate_random_dataset(shots: int, actors: int, population_density: float):\n",
    "\n",
    "    if (population_density <= 0) or (population_density > 1):\n",
    "        raise ValueError(\"population_density should be a value in the range (0, 1]\")\n",
    "\n",
    "    # Inicializar el array dataset, dónde las filas representan los tomas, y las columnas los actores\n",
    "    random_dataset = np.zeros((shots, actors), dtype=int) \n",
    "\n",
    "    # Asignar tomas a los actores hasta alcanzar el mínimo de población\n",
    "    while (np.sum(random_dataset) / random_dataset.size) < population_density:  # Asegurar el mínimo de población\n",
    "        assigned_actors_to_shot = np.random.randint(0, actors, size=shots)  # Asignar cada toma a un actor\n",
    "        for shot, actor in enumerate(assigned_actors_to_shot):\n",
    "            random_dataset[shot, actor] = 1\n",
    "\n",
    "    return random_dataset"
   ]
  },
  {
   "cell_type": "code",
   "execution_count": 17,
   "id": "26874e95-1270-4315-955e-3ec6eead2462",
   "metadata": {
    "scrolled": true
   },
   "outputs": [
    {
     "name": "stdout",
     "output_type": "stream",
     "text": [
      "Éxito! Todas las tomas tienen al menos un actor.\n"
     ]
    },
    {
     "data": {
      "text/plain": [
       "array([[0, 1, 1, 1, 1, 1, 0, 0, 0, 0, 0, 1, 1, 0, 0, 0, 0, 0, 0, 0, 0, 1],\n",
       "       [1, 0, 0, 0, 1, 1, 1, 0, 1, 0, 0, 1, 0, 1, 0, 1, 0, 0, 0, 1, 0, 0],\n",
       "       [1, 0, 1, 0, 0, 1, 1, 0, 1, 1, 1, 0, 0, 1, 1, 0, 0, 1, 0, 0, 0, 0],\n",
       "       [1, 0, 0, 0, 1, 1, 1, 0, 0, 0, 0, 0, 0, 1, 0, 1, 0, 0, 1, 1, 0, 0],\n",
       "       [0, 1, 0, 1, 0, 0, 0, 1, 1, 0, 1, 0, 1, 0, 1, 0, 0, 0, 0, 1, 1, 1],\n",
       "       [0, 1, 0, 1, 0, 1, 0, 1, 0, 0, 1, 1, 0, 1, 0, 1, 0, 1, 0, 0, 0, 0],\n",
       "       [1, 0, 1, 1, 0, 1, 0, 0, 0, 0, 0, 0, 0, 0, 0, 1, 0, 0, 1, 1, 1, 1],\n",
       "       [1, 0, 0, 1, 0, 0, 1, 0, 1, 0, 0, 0, 1, 0, 1, 1, 1, 0, 1, 0, 0, 0],\n",
       "       [1, 1, 0, 1, 0, 1, 1, 0, 0, 0, 0, 1, 1, 0, 0, 0, 0, 1, 0, 0, 0, 0],\n",
       "       [1, 1, 1, 1, 0, 0, 1, 1, 0, 1, 0, 1, 0, 1, 1, 0, 0, 0, 0, 1, 0, 0],\n",
       "       [0, 1, 0, 1, 0, 1, 0, 0, 1, 1, 0, 1, 0, 1, 1, 0, 0, 0, 1, 0, 1, 0],\n",
       "       [1, 0, 0, 0, 1, 0, 0, 1, 0, 1, 0, 1, 1, 1, 0, 1, 0, 1, 0, 0, 1, 0],\n",
       "       [1, 1, 0, 0, 0, 0, 0, 1, 0, 1, 0, 0, 1, 1, 1, 1, 0, 0, 1, 0, 1, 0],\n",
       "       [0, 0, 1, 0, 0, 0, 1, 0, 0, 0, 0, 1, 0, 1, 0, 0, 0, 0, 0, 0, 1, 1],\n",
       "       [0, 1, 0, 1, 0, 1, 0, 0, 0, 0, 0, 1, 1, 1, 0, 1, 0, 0, 1, 0, 1, 0],\n",
       "       [0, 1, 1, 0, 0, 1, 1, 1, 0, 1, 0, 0, 0, 1, 1, 0, 1, 1, 0, 1, 0, 0],\n",
       "       [0, 0, 0, 1, 0, 0, 0, 1, 1, 0, 1, 0, 0, 0, 1, 0, 1, 0, 0, 1, 1, 1],\n",
       "       [0, 0, 0, 1, 0, 1, 1, 0, 1, 0, 1, 1, 0, 1, 0, 0, 0, 0, 1, 1, 1, 1],\n",
       "       [1, 0, 0, 1, 0, 0, 0, 0, 1, 1, 1, 1, 0, 0, 0, 0, 1, 1, 0, 0, 1, 0],\n",
       "       [0, 1, 1, 0, 0, 0, 1, 1, 0, 1, 0, 1, 0, 1, 1, 1, 0, 0, 0, 0, 1, 0],\n",
       "       [1, 1, 1, 0, 0, 0, 0, 1, 0, 1, 1, 1, 0, 0, 1, 0, 0, 0, 0, 1, 0, 1],\n",
       "       [1, 1, 1, 0, 0, 1, 0, 1, 1, 0, 0, 1, 1, 0, 0, 0, 0, 1, 0, 0, 0, 0],\n",
       "       [1, 0, 0, 1, 1, 1, 0, 0, 0, 1, 1, 0, 0, 0, 0, 0, 0, 1, 0, 0, 0, 1],\n",
       "       [0, 1, 0, 0, 0, 0, 1, 0, 0, 1, 0, 1, 0, 1, 0, 0, 0, 1, 0, 1, 1, 1],\n",
       "       [0, 0, 1, 1, 1, 1, 1, 0, 0, 0, 0, 0, 0, 0, 1, 1, 0, 0, 1, 1, 0, 0],\n",
       "       [0, 0, 0, 0, 0, 1, 1, 0, 1, 0, 1, 1, 0, 0, 0, 1, 1, 0, 0, 1, 1, 1],\n",
       "       [0, 1, 0, 0, 1, 0, 1, 0, 1, 0, 0, 0, 1, 1, 1, 0, 1, 1, 0, 0, 1, 1],\n",
       "       [1, 0, 1, 1, 0, 1, 0, 0, 1, 1, 0, 1, 0, 0, 0, 0, 0, 0, 0, 1, 0, 0],\n",
       "       [0, 0, 1, 0, 0, 0, 1, 0, 0, 0, 0, 0, 1, 0, 0, 0, 1, 1, 1, 1, 0, 1],\n",
       "       [0, 1, 0, 1, 0, 0, 0, 0, 0, 1, 0, 1, 0, 1, 0, 1, 0, 1, 0, 0, 1, 1]])"
      ]
     },
     "execution_count": 17,
     "metadata": {},
     "output_type": "execute_result"
    }
   ],
   "source": [
    "random_dataset = generate_random_dataset(shots=30, actors=22, population_density=.4)\n",
    "\n",
    "# Comprobamos que no hayan tomas vacías\n",
    "if all(np.sum(random_dataset, axis=1) > 0):\n",
    "    print(\"Éxito! Todas las tomas tienen al menos un actor.\")\n",
    "else:\n",
    "    print(\"Error: Hay tomas sin actores.\")\n",
    "\n",
    "random_dataset"
   ]
  },
  {
   "cell_type": "markdown",
   "id": "07cb9482-0e40-4fca-8eca-b9e6dbec81e2",
   "metadata": {},
   "source": [
    "## 11. __Aplica el algoritmo al juego de datos generado__"
   ]
  },
  {
   "cell_type": "code",
   "execution_count": 34,
   "id": "e180b409-c883-4b7e-ada6-a8cf734d73fc",
   "metadata": {},
   "outputs": [],
   "source": [
    "max_shots = 6\n",
    "max_iter = 10000000"
   ]
  },
  {
   "cell_type": "code",
   "execution_count": 35,
   "id": "0e9841ba-6814-4588-8630-73828d7c7a4b",
   "metadata": {},
   "outputs": [
    {
     "data": {
      "text/plain": [
       "3"
      ]
     },
     "execution_count": 35,
     "metadata": {},
     "output_type": "execute_result"
    }
   ],
   "source": [
    "min_day = (max(np.sum(random_dataset, axis = 0)) // max_shots) + 1 * (0 != max(np.sum(random_dataset, axis = 0)) % max_shots)\n",
    "min_day"
   ]
  },
  {
   "cell_type": "code",
   "execution_count": 36,
   "id": "b00a3320-77d5-4825-9f2b-46df8d9766f4",
   "metadata": {},
   "outputs": [
    {
     "name": "stdout",
     "output_type": "stream",
     "text": [
      "CPU times: total: 46.9 ms\n",
      "Wall time: 40.9 ms\n"
     ]
    },
    {
     "data": {
      "text/plain": [
       "(3,\n",
       " True,\n",
       " array([[0, 1, 0, 0, 1, 0, 1, 0, 0, 0, 1, 0, 0, 0, 1, 0, 0, 0, 1, 1, 0, 0,\n",
       "         0, 1, 0, 0, 0, 0, 1, 0],\n",
       "        [1, 0, 1, 0, 0, 1, 0, 1, 1, 0, 0, 0, 0, 0, 0, 1, 1, 0, 0, 0, 0, 1,\n",
       "         1, 0, 0, 0, 0, 1, 0, 1],\n",
       "        [0, 0, 0, 1, 0, 0, 0, 0, 0, 1, 0, 1, 1, 1, 0, 0, 0, 1, 0, 0, 1, 0,\n",
       "         0, 0, 1, 1, 1, 0, 0, 0]]))"
      ]
     },
     "execution_count": 36,
     "metadata": {},
     "output_type": "execute_result"
    }
   ],
   "source": [
    "%%time\n",
    "best_sol_days, best_sol_found = random_solve(random_dataset, max_shots, max_iter)\n",
    "best_sol_days, is_valid(best_sol_found, random_dataset), best_sol_found"
   ]
  },
  {
   "cell_type": "markdown",
   "id": "9273421f-90c0-4d59-aa53-c1a8da035fc7",
   "metadata": {},
   "source": [
    "## 12. __Enumera las referencias que has utilizado(si ha sido necesario) para llevar a cabo el trabajo__\n",
    "\n",
    "[1] Alberto Caldas Lima, [Aplicación de algoritmos heurísticos para optimizar el coste de doblaje de películas](http://eio.usc.es/pub/mte/descargas/ProyectosFinMaster/Proyecto_759.pdf)\n",
    "\n",
    "[2] Wikipedia, [Bell Number](https://en.wikipedia.org/wiki/Bell_number)\n",
    "\n",
    "[3] Rajeev Agrawal, [Bell Numbers (Number of ways to Partition a Set)](https://www.geeksforgeeks.org/bell-numbers-number-of-ways-to-partition-a-set/)\n",
    "\n",
    "## 13. __Describe brevemente las lineas de como crees que es posible avanzar en el estudio del problema. Ten en cuenta incluso posibles variaciones del problema y/o variaciones al alza del tamaño__\n",
    "\n",
    "Respuesta"
   ]
  },
  {
   "cell_type": "markdown",
   "id": "c028af9b-247d-4076-b61b-406f3ba46877",
   "metadata": {},
   "source": [
    "La verdad es que por falta de tiempo no he podido llegar hasta el fondo del algoritmo basado en operaciones XOR. Me gustaría seguir trabajando en ello.\n",
    "\n",
    "Aún así, creo que el siguiente paso en el estudio del problema sería parar a buscar alternativas, cómo se explican en el paper de Casas Lima [1], y que seguramente nos den una solución elegante y de baja complejidad para el problema. También sería interesante hacer un modelado matemáticamente riguroso del problema, para entender mejor las limitaciones y algoritmos aplicables a partir de la teoría."
   ]
  },
  {
   "cell_type": "code",
   "execution_count": null,
   "id": "b259e532-a61f-406d-aa49-54aeb35d6ba9",
   "metadata": {},
   "outputs": [],
   "source": []
  }
 ],
 "metadata": {
  "kernelspec": {
   "display_name": "Python 3 (ipykernel)",
   "language": "python",
   "name": "python3"
  },
  "language_info": {
   "codemirror_mode": {
    "name": "ipython",
    "version": 3
   },
   "file_extension": ".py",
   "mimetype": "text/x-python",
   "name": "python",
   "nbconvert_exporter": "python",
   "pygments_lexer": "ipython3",
   "version": "3.11.9"
  }
 },
 "nbformat": 4,
 "nbformat_minor": 5
}
