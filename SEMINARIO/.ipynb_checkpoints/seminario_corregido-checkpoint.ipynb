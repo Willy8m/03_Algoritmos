{
 "cells": [
  {
   "cell_type": "markdown",
   "id": "3f0b6166-cad2-4da4-8334-6d7ac25fa944",
   "metadata": {},
   "source": [
    "# Algoritmos de optimización - Seminario<br>\n",
    "Nombre y Apellidos: Guillem Barta Gonzàlez<br>\n",
    "https://github.com/Willy8m/03_Algoritmos/SEMINARIO\n",
    "\n",
    "Problema:\n",
    "> 1. Sesiones de doblaje <br>\n",
    "\n",
    "Se precisa coordinar el doblaje de una película. Los actores del doblaje deben coincidir en las tomas en las que sus personajes aparecen juntos en las diferentes tomas. Los actores de doblaje cobran todos la misma cantidad por cada día que deben desplazarse hasta el estudio de grabación independientemente del número de tomas que se graben. No es posible grabar más de 6 tomas por día. El objetivo es planificar las sesiones por día de manera que el gasto por los servicios de los actores de doblaje sea el menor posible. \n",
    "\n",
    "Los datos son: \n",
    "- Número de actores: 10 \n",
    "- Número de tomas : 30\n",
    "- Actores/Tomas : https://bit.ly/36D8IuK\n",
    "  - 1 indica que el actor participa en la toma\n",
    "  - 0 en caso contrario\n",
    "\n",
    "### Información clave\n",
    "\n",
    "Hay que encontrar que combinación de tomas resulta en el menor número de dias de doblaje.\n",
    "\n",
    "Restricciones a tener en cuenta:\n",
    "- Cada actor puede completar cómo máximo, 6 tomas al día.\n",
    "- Los actores de una misma toma deben asistir el mismo día para grabar dicha toma.\n",
    "\n",
    "(*) La respuesta es obligatoria"
   ]
  },
  {
   "cell_type": "markdown",
   "id": "55044bea-cba4-4b84-b3d6-1017fc4f436e",
   "metadata": {},
   "source": [
    "## 0. Importamos librerias y cargamos los datos"
   ]
  },
  {
   "cell_type": "code",
   "execution_count": 1,
   "id": "0180d4a5-e763-417c-84d7-50d8d0bb2a1f",
   "metadata": {},
   "outputs": [],
   "source": [
    "import math\n",
    "import pandas as pd\n",
    "import numpy as np\n",
    "from decimal import Decimal"
   ]
  },
  {
   "cell_type": "code",
   "execution_count": 2,
   "id": "a32d9e3f-5f69-48d6-92e4-d2a07aa70698",
   "metadata": {
    "scrolled": true
   },
   "outputs": [],
   "source": [
    "# Load data\n",
    "df = pd.read_excel('Datos problema doblaje(30 tomas, 10 actores).xlsx', header = 1, index_col = 0)"
   ]
  },
  {
   "cell_type": "code",
   "execution_count": 3,
   "id": "3f2bc3ac-0eb1-4778-a081-7fd6d4807d55",
   "metadata": {},
   "outputs": [
    {
     "data": {
      "text/html": [
       "<div>\n",
       "<style scoped>\n",
       "    .dataframe tbody tr th:only-of-type {\n",
       "        vertical-align: middle;\n",
       "    }\n",
       "\n",
       "    .dataframe tbody tr th {\n",
       "        vertical-align: top;\n",
       "    }\n",
       "\n",
       "    .dataframe thead th {\n",
       "        text-align: right;\n",
       "    }\n",
       "</style>\n",
       "<table border=\"1\" class=\"dataframe\">\n",
       "  <thead>\n",
       "    <tr style=\"text-align: right;\">\n",
       "      <th></th>\n",
       "      <th>1</th>\n",
       "      <th>2</th>\n",
       "      <th>3</th>\n",
       "      <th>4</th>\n",
       "      <th>5</th>\n",
       "      <th>6</th>\n",
       "      <th>7</th>\n",
       "      <th>8</th>\n",
       "      <th>9</th>\n",
       "      <th>10</th>\n",
       "    </tr>\n",
       "    <tr>\n",
       "      <th>Toma</th>\n",
       "      <th></th>\n",
       "      <th></th>\n",
       "      <th></th>\n",
       "      <th></th>\n",
       "      <th></th>\n",
       "      <th></th>\n",
       "      <th></th>\n",
       "      <th></th>\n",
       "      <th></th>\n",
       "      <th></th>\n",
       "    </tr>\n",
       "  </thead>\n",
       "  <tbody>\n",
       "    <tr>\n",
       "      <th>1</th>\n",
       "      <td>1</td>\n",
       "      <td>1</td>\n",
       "      <td>1</td>\n",
       "      <td>1</td>\n",
       "      <td>1</td>\n",
       "      <td>0</td>\n",
       "      <td>0</td>\n",
       "      <td>0</td>\n",
       "      <td>0</td>\n",
       "      <td>0</td>\n",
       "    </tr>\n",
       "    <tr>\n",
       "      <th>2</th>\n",
       "      <td>0</td>\n",
       "      <td>0</td>\n",
       "      <td>1</td>\n",
       "      <td>1</td>\n",
       "      <td>1</td>\n",
       "      <td>0</td>\n",
       "      <td>0</td>\n",
       "      <td>0</td>\n",
       "      <td>0</td>\n",
       "      <td>0</td>\n",
       "    </tr>\n",
       "    <tr>\n",
       "      <th>3</th>\n",
       "      <td>0</td>\n",
       "      <td>1</td>\n",
       "      <td>0</td>\n",
       "      <td>0</td>\n",
       "      <td>1</td>\n",
       "      <td>0</td>\n",
       "      <td>1</td>\n",
       "      <td>0</td>\n",
       "      <td>0</td>\n",
       "      <td>0</td>\n",
       "    </tr>\n",
       "    <tr>\n",
       "      <th>4</th>\n",
       "      <td>1</td>\n",
       "      <td>1</td>\n",
       "      <td>0</td>\n",
       "      <td>0</td>\n",
       "      <td>0</td>\n",
       "      <td>0</td>\n",
       "      <td>1</td>\n",
       "      <td>1</td>\n",
       "      <td>0</td>\n",
       "      <td>0</td>\n",
       "    </tr>\n",
       "    <tr>\n",
       "      <th>5</th>\n",
       "      <td>0</td>\n",
       "      <td>1</td>\n",
       "      <td>0</td>\n",
       "      <td>1</td>\n",
       "      <td>0</td>\n",
       "      <td>0</td>\n",
       "      <td>0</td>\n",
       "      <td>1</td>\n",
       "      <td>0</td>\n",
       "      <td>0</td>\n",
       "    </tr>\n",
       "    <tr>\n",
       "      <th>6</th>\n",
       "      <td>1</td>\n",
       "      <td>1</td>\n",
       "      <td>0</td>\n",
       "      <td>1</td>\n",
       "      <td>1</td>\n",
       "      <td>0</td>\n",
       "      <td>0</td>\n",
       "      <td>0</td>\n",
       "      <td>0</td>\n",
       "      <td>0</td>\n",
       "    </tr>\n",
       "    <tr>\n",
       "      <th>7</th>\n",
       "      <td>1</td>\n",
       "      <td>1</td>\n",
       "      <td>0</td>\n",
       "      <td>1</td>\n",
       "      <td>1</td>\n",
       "      <td>0</td>\n",
       "      <td>0</td>\n",
       "      <td>0</td>\n",
       "      <td>0</td>\n",
       "      <td>0</td>\n",
       "    </tr>\n",
       "    <tr>\n",
       "      <th>8</th>\n",
       "      <td>1</td>\n",
       "      <td>1</td>\n",
       "      <td>0</td>\n",
       "      <td>0</td>\n",
       "      <td>0</td>\n",
       "      <td>1</td>\n",
       "      <td>0</td>\n",
       "      <td>0</td>\n",
       "      <td>0</td>\n",
       "      <td>0</td>\n",
       "    </tr>\n",
       "    <tr>\n",
       "      <th>9</th>\n",
       "      <td>1</td>\n",
       "      <td>1</td>\n",
       "      <td>0</td>\n",
       "      <td>1</td>\n",
       "      <td>0</td>\n",
       "      <td>0</td>\n",
       "      <td>0</td>\n",
       "      <td>0</td>\n",
       "      <td>0</td>\n",
       "      <td>0</td>\n",
       "    </tr>\n",
       "    <tr>\n",
       "      <th>10</th>\n",
       "      <td>1</td>\n",
       "      <td>1</td>\n",
       "      <td>0</td>\n",
       "      <td>0</td>\n",
       "      <td>0</td>\n",
       "      <td>1</td>\n",
       "      <td>0</td>\n",
       "      <td>0</td>\n",
       "      <td>1</td>\n",
       "      <td>0</td>\n",
       "    </tr>\n",
       "    <tr>\n",
       "      <th>11</th>\n",
       "      <td>1</td>\n",
       "      <td>1</td>\n",
       "      <td>1</td>\n",
       "      <td>0</td>\n",
       "      <td>1</td>\n",
       "      <td>0</td>\n",
       "      <td>0</td>\n",
       "      <td>1</td>\n",
       "      <td>0</td>\n",
       "      <td>0</td>\n",
       "    </tr>\n",
       "    <tr>\n",
       "      <th>12</th>\n",
       "      <td>1</td>\n",
       "      <td>1</td>\n",
       "      <td>1</td>\n",
       "      <td>1</td>\n",
       "      <td>0</td>\n",
       "      <td>1</td>\n",
       "      <td>0</td>\n",
       "      <td>0</td>\n",
       "      <td>0</td>\n",
       "      <td>0</td>\n",
       "    </tr>\n",
       "    <tr>\n",
       "      <th>13</th>\n",
       "      <td>1</td>\n",
       "      <td>0</td>\n",
       "      <td>0</td>\n",
       "      <td>1</td>\n",
       "      <td>1</td>\n",
       "      <td>0</td>\n",
       "      <td>0</td>\n",
       "      <td>0</td>\n",
       "      <td>0</td>\n",
       "      <td>0</td>\n",
       "    </tr>\n",
       "    <tr>\n",
       "      <th>14</th>\n",
       "      <td>1</td>\n",
       "      <td>0</td>\n",
       "      <td>1</td>\n",
       "      <td>0</td>\n",
       "      <td>0</td>\n",
       "      <td>1</td>\n",
       "      <td>0</td>\n",
       "      <td>0</td>\n",
       "      <td>0</td>\n",
       "      <td>0</td>\n",
       "    </tr>\n",
       "    <tr>\n",
       "      <th>15</th>\n",
       "      <td>1</td>\n",
       "      <td>1</td>\n",
       "      <td>0</td>\n",
       "      <td>0</td>\n",
       "      <td>0</td>\n",
       "      <td>0</td>\n",
       "      <td>1</td>\n",
       "      <td>0</td>\n",
       "      <td>0</td>\n",
       "      <td>0</td>\n",
       "    </tr>\n",
       "    <tr>\n",
       "      <th>16</th>\n",
       "      <td>0</td>\n",
       "      <td>0</td>\n",
       "      <td>0</td>\n",
       "      <td>1</td>\n",
       "      <td>0</td>\n",
       "      <td>0</td>\n",
       "      <td>0</td>\n",
       "      <td>0</td>\n",
       "      <td>0</td>\n",
       "      <td>1</td>\n",
       "    </tr>\n",
       "    <tr>\n",
       "      <th>17</th>\n",
       "      <td>1</td>\n",
       "      <td>0</td>\n",
       "      <td>1</td>\n",
       "      <td>0</td>\n",
       "      <td>0</td>\n",
       "      <td>0</td>\n",
       "      <td>0</td>\n",
       "      <td>0</td>\n",
       "      <td>0</td>\n",
       "      <td>0</td>\n",
       "    </tr>\n",
       "    <tr>\n",
       "      <th>18</th>\n",
       "      <td>0</td>\n",
       "      <td>0</td>\n",
       "      <td>1</td>\n",
       "      <td>0</td>\n",
       "      <td>0</td>\n",
       "      <td>1</td>\n",
       "      <td>0</td>\n",
       "      <td>0</td>\n",
       "      <td>0</td>\n",
       "      <td>0</td>\n",
       "    </tr>\n",
       "    <tr>\n",
       "      <th>19</th>\n",
       "      <td>1</td>\n",
       "      <td>0</td>\n",
       "      <td>1</td>\n",
       "      <td>0</td>\n",
       "      <td>0</td>\n",
       "      <td>0</td>\n",
       "      <td>0</td>\n",
       "      <td>0</td>\n",
       "      <td>0</td>\n",
       "      <td>0</td>\n",
       "    </tr>\n",
       "    <tr>\n",
       "      <th>20</th>\n",
       "      <td>1</td>\n",
       "      <td>0</td>\n",
       "      <td>1</td>\n",
       "      <td>1</td>\n",
       "      <td>1</td>\n",
       "      <td>0</td>\n",
       "      <td>0</td>\n",
       "      <td>0</td>\n",
       "      <td>0</td>\n",
       "      <td>0</td>\n",
       "    </tr>\n",
       "    <tr>\n",
       "      <th>21</th>\n",
       "      <td>0</td>\n",
       "      <td>0</td>\n",
       "      <td>0</td>\n",
       "      <td>0</td>\n",
       "      <td>0</td>\n",
       "      <td>1</td>\n",
       "      <td>0</td>\n",
       "      <td>1</td>\n",
       "      <td>0</td>\n",
       "      <td>0</td>\n",
       "    </tr>\n",
       "    <tr>\n",
       "      <th>22</th>\n",
       "      <td>1</td>\n",
       "      <td>1</td>\n",
       "      <td>1</td>\n",
       "      <td>1</td>\n",
       "      <td>0</td>\n",
       "      <td>0</td>\n",
       "      <td>0</td>\n",
       "      <td>0</td>\n",
       "      <td>0</td>\n",
       "      <td>0</td>\n",
       "    </tr>\n",
       "    <tr>\n",
       "      <th>23</th>\n",
       "      <td>1</td>\n",
       "      <td>0</td>\n",
       "      <td>1</td>\n",
       "      <td>0</td>\n",
       "      <td>0</td>\n",
       "      <td>0</td>\n",
       "      <td>0</td>\n",
       "      <td>0</td>\n",
       "      <td>0</td>\n",
       "      <td>0</td>\n",
       "    </tr>\n",
       "    <tr>\n",
       "      <th>24</th>\n",
       "      <td>0</td>\n",
       "      <td>0</td>\n",
       "      <td>1</td>\n",
       "      <td>0</td>\n",
       "      <td>0</td>\n",
       "      <td>1</td>\n",
       "      <td>0</td>\n",
       "      <td>0</td>\n",
       "      <td>0</td>\n",
       "      <td>0</td>\n",
       "    </tr>\n",
       "    <tr>\n",
       "      <th>25</th>\n",
       "      <td>1</td>\n",
       "      <td>1</td>\n",
       "      <td>0</td>\n",
       "      <td>1</td>\n",
       "      <td>0</td>\n",
       "      <td>0</td>\n",
       "      <td>0</td>\n",
       "      <td>0</td>\n",
       "      <td>0</td>\n",
       "      <td>1</td>\n",
       "    </tr>\n",
       "    <tr>\n",
       "      <th>26</th>\n",
       "      <td>1</td>\n",
       "      <td>0</td>\n",
       "      <td>1</td>\n",
       "      <td>0</td>\n",
       "      <td>1</td>\n",
       "      <td>0</td>\n",
       "      <td>0</td>\n",
       "      <td>0</td>\n",
       "      <td>1</td>\n",
       "      <td>0</td>\n",
       "    </tr>\n",
       "    <tr>\n",
       "      <th>27</th>\n",
       "      <td>0</td>\n",
       "      <td>0</td>\n",
       "      <td>0</td>\n",
       "      <td>1</td>\n",
       "      <td>1</td>\n",
       "      <td>0</td>\n",
       "      <td>0</td>\n",
       "      <td>0</td>\n",
       "      <td>0</td>\n",
       "      <td>0</td>\n",
       "    </tr>\n",
       "    <tr>\n",
       "      <th>28</th>\n",
       "      <td>1</td>\n",
       "      <td>0</td>\n",
       "      <td>0</td>\n",
       "      <td>1</td>\n",
       "      <td>0</td>\n",
       "      <td>0</td>\n",
       "      <td>0</td>\n",
       "      <td>0</td>\n",
       "      <td>0</td>\n",
       "      <td>0</td>\n",
       "    </tr>\n",
       "    <tr>\n",
       "      <th>29</th>\n",
       "      <td>1</td>\n",
       "      <td>0</td>\n",
       "      <td>0</td>\n",
       "      <td>0</td>\n",
       "      <td>1</td>\n",
       "      <td>1</td>\n",
       "      <td>0</td>\n",
       "      <td>0</td>\n",
       "      <td>0</td>\n",
       "      <td>0</td>\n",
       "    </tr>\n",
       "    <tr>\n",
       "      <th>30</th>\n",
       "      <td>1</td>\n",
       "      <td>0</td>\n",
       "      <td>0</td>\n",
       "      <td>1</td>\n",
       "      <td>0</td>\n",
       "      <td>0</td>\n",
       "      <td>0</td>\n",
       "      <td>0</td>\n",
       "      <td>0</td>\n",
       "      <td>0</td>\n",
       "    </tr>\n",
       "  </tbody>\n",
       "</table>\n",
       "</div>"
      ],
      "text/plain": [
       "      1  2  3  4  5  6  7  8  9  10\n",
       "Toma                               \n",
       "1     1  1  1  1  1  0  0  0  0   0\n",
       "2     0  0  1  1  1  0  0  0  0   0\n",
       "3     0  1  0  0  1  0  1  0  0   0\n",
       "4     1  1  0  0  0  0  1  1  0   0\n",
       "5     0  1  0  1  0  0  0  1  0   0\n",
       "6     1  1  0  1  1  0  0  0  0   0\n",
       "7     1  1  0  1  1  0  0  0  0   0\n",
       "8     1  1  0  0  0  1  0  0  0   0\n",
       "9     1  1  0  1  0  0  0  0  0   0\n",
       "10    1  1  0  0  0  1  0  0  1   0\n",
       "11    1  1  1  0  1  0  0  1  0   0\n",
       "12    1  1  1  1  0  1  0  0  0   0\n",
       "13    1  0  0  1  1  0  0  0  0   0\n",
       "14    1  0  1  0  0  1  0  0  0   0\n",
       "15    1  1  0  0  0  0  1  0  0   0\n",
       "16    0  0  0  1  0  0  0  0  0   1\n",
       "17    1  0  1  0  0  0  0  0  0   0\n",
       "18    0  0  1  0  0  1  0  0  0   0\n",
       "19    1  0  1  0  0  0  0  0  0   0\n",
       "20    1  0  1  1  1  0  0  0  0   0\n",
       "21    0  0  0  0  0  1  0  1  0   0\n",
       "22    1  1  1  1  0  0  0  0  0   0\n",
       "23    1  0  1  0  0  0  0  0  0   0\n",
       "24    0  0  1  0  0  1  0  0  0   0\n",
       "25    1  1  0  1  0  0  0  0  0   1\n",
       "26    1  0  1  0  1  0  0  0  1   0\n",
       "27    0  0  0  1  1  0  0  0  0   0\n",
       "28    1  0  0  1  0  0  0  0  0   0\n",
       "29    1  0  0  0  1  1  0  0  0   0\n",
       "30    1  0  0  1  0  0  0  0  0   0"
      ]
     },
     "execution_count": 3,
     "metadata": {},
     "output_type": "execute_result"
    }
   ],
   "source": [
    "# Drop columns and rows to keep only the data\n",
    "data = df[:-2].copy() # drop two last rows\n",
    "data.drop(columns=[\"Unnamed: 11\", \"Total\"], inplace=True)  # drop two last columns\n",
    "data = data.astype(int)\n",
    "data"
   ]
  },
  {
   "cell_type": "markdown",
   "id": "2fe5077c-d4cd-4ced-8b18-e25e02839f6f",
   "metadata": {},
   "source": [
    "En la tabla se observan 30 filas, que corresponden a las tomas, y 10 columnas, que corresponden a los actores. Un actor asiste a una toma si hay un 1 en la posición correspondiente."
   ]
  },
  {
   "cell_type": "markdown",
   "id": "36f64e7d-b00e-4fbd-8070-a4ebeb7b6fe6",
   "metadata": {},
   "source": [
    "## 1. ¿Cuantas posibilidades hay sin tener en cuenta las restricciones?"
   ]
  },
  {
   "cell_type": "markdown",
   "id": "18beb4aa-15ef-4f5f-befb-631891a45166",
   "metadata": {
    "jp-MarkdownHeadingCollapsed": true
   },
   "source": [
    "El número de posibilidades se rige por la agrupación, sin orden, en grupos de tomas por día. Así, las posibilidades van desde tener todas las tomas el mismo día, a tener todas las tomas separadas en días distintos (caso menos eficiente).\n",
    "\n",
    "Para calcular el número de agrupaciones diferentes con 30 elementos usamos el número de Bell $B_{n}$ [2], donde \"$n$\" corresponde al número de elementos. Podemos visualizar el número de Bell con el siguiente dibujo, extraido de wikipedia:\n",
    "\n",
    "![a](https://upload.wikimedia.org/wikipedia/commons/thumb/1/19/Set_partitions_5%3B_circles.svg/220px-Set_partitions_5%3B_circles.svg.png)\n",
    "\n",
    "\n",
    "De un algoritmo para calcular números de Bell de Rajeev Agrawal [3] se obtiene que existen $8.47E+23$ posibles soluciones:"
   ]
  },
  {
   "cell_type": "code",
   "execution_count": 4,
   "id": "5ce4b2dc-096b-438b-900e-d2ac3ececced",
   "metadata": {},
   "outputs": [
    {
     "name": "stdout",
     "output_type": "stream",
     "text": [
      "Possibilities:  8.47E+23\n"
     ]
    }
   ],
   "source": [
    "# code credit: Rajeev Agrawal\n",
    "# python program to find number of ways of partitioning it.\n",
    "n = 30\n",
    "s = [[0 for _ in range(n+1)] for _ in range(n+1)]\n",
    "for i in range(n+1):\n",
    "    for j in range(n+1):\n",
    "        if j > i:\n",
    "            continue\n",
    "        elif(i==j):\n",
    "            s[i][j] = 1\n",
    "        elif(i==0 or j==0):\n",
    "            s[i][j]=0\n",
    "        else:\n",
    "            s[i][j] = j*s[i-1][j] + s[i-1][j-1]\n",
    "ans = 0\n",
    "for i in range(0,n+1):\n",
    "    ans+=s[n][i]\n",
    "print(\"Possibilities: \", '%.2E' % Decimal(ans))"
   ]
  },
  {
   "cell_type": "markdown",
   "id": "a3184fd9-2392-43e5-9ecd-89d74892f75b",
   "metadata": {},
   "source": [
    "## 2. ¿Cuantas posibilidades hay teniendo en cuenta todas las restricciones?"
   ]
  },
  {
   "cell_type": "markdown",
   "id": "530d4ac6-3421-46bb-9485-4dab816c0234",
   "metadata": {},
   "source": [
    "Teniendo en cuenta las restricciones, el número de posibbles combinaciones de tomas y días dependerá de la ocupación de los actores en cada toma. De módo que el número de posibles agrupaciones depende de los datos específicos de cada problema.\n",
    "\n",
    "Es posible que exista una estructura de datos más adecuada que nos permita calcular este número."
   ]
  },
  {
   "cell_type": "markdown",
   "id": "36ddb2de-8e38-4832-b8da-ac56e7a3d508",
   "metadata": {},
   "source": [
    "## 3. ¿Cual es la estructura de datos que mejor se adapta al problema? Argumentalo.(Es posible que hayas elegido una al principio y veas la necesidad de cambiar, arguentalo)"
   ]
  },
  {
   "cell_type": "markdown",
   "id": "42663098-7c63-4bac-9798-ba8bca6d3904",
   "metadata": {},
   "source": [
    "En un principio, elegí una lista de listas binárias, dónde los valores binários representaban la asistencia de un actor a una toma en particular. Es decir, justo la estructura que se nos brinda en el archivo de datos .xlsx\n",
    "\n",
    "Posteriormente me dí cuenta (después de leer el estudio de Alberto [1]) de que la estructura que se ajusta mejor, es una lista de listas ````sol````, dónde cada lista contiene las tomas que se van a grabar en un determinado día. Con un 1 o un 0 en la posición de la lista correspondiente a cada toma. "
   ]
  },
  {
   "cell_type": "markdown",
   "id": "0dec01a7-874e-48f9-95a9-b8ad5461f97a",
   "metadata": {},
   "source": [
    "Por ejemplo, consideremos la siguiente solcuión:"
   ]
  },
  {
   "cell_type": "code",
   "execution_count": 5,
   "id": "c9ba6c96-077a-42f2-948a-d33abe7611e7",
   "metadata": {},
   "outputs": [],
   "source": [
    "# Una toma el primer día, y las otras dos el segundo\n",
    "#             toma   1 2 3\n",
    "example_solution = [[1,0,0], # día 1\n",
    "                    [0,1,1]] # día 2"
   ]
  },
  {
   "cell_type": "markdown",
   "id": "dc01cda1-f5b4-4de9-ac28-79bde928fa72",
   "metadata": {},
   "source": [
    "Además, con esta estructura podemos controlar fácilmente el número de días que se requieren para grabar todas las tomas con:"
   ]
  },
  {
   "cell_type": "code",
   "execution_count": 6,
   "id": "a2b3220b-3f9e-4bf1-be6e-543ca6346ec8",
   "metadata": {},
   "outputs": [
    {
     "data": {
      "text/plain": [
       "2"
      ]
     },
     "execution_count": 6,
     "metadata": {},
     "output_type": "execute_result"
    }
   ],
   "source": [
    "dias = len(example_solution)\n",
    "dias"
   ]
  },
  {
   "cell_type": "markdown",
   "id": "68e0513b-25dd-4a34-a20d-6b7dd93e05dc",
   "metadata": {},
   "source": [
    "Además, esta estructura es conveniente para comprobar que la cantidad de tomas por actor al día no supera el máximo establecido ````max_shots = 6````, con operaciones matriciales ````@```` y ndarrays:"
   ]
  },
  {
   "cell_type": "code",
   "execution_count": 7,
   "id": "0deb8c1c-a1df-4bad-be6e-99b6ec77a79f",
   "metadata": {},
   "outputs": [
    {
     "data": {
      "text/plain": [
       "True"
      ]
     },
     "execution_count": 7,
     "metadata": {},
     "output_type": "execute_result"
    }
   ],
   "source": [
    "sol = np.array(example_solution)\n",
    "\n",
    "# Máximo de tomas grabadas al día\n",
    "max_shots = 1\n",
    "\n",
    "# Datos de ejemplo:\n",
    "#            actor 1 2 3\n",
    "data1 = np.array([[1,1,0], # toma 1\n",
    "                  [1,1,0], # toma 2\n",
    "                  [1,0,1]] # toma 3\n",
    "                )\n",
    "\n",
    "# Booleana que nos indica si la solución es invalida\n",
    "invalid_sol = any([any((sol[day] @ data1) > max_shots) for day in range(len(sol))])\n",
    "invalid_sol"
   ]
  },
  {
   "cell_type": "markdown",
   "id": "dcf5b0cf-409f-45fc-8987-08dfcec69317",
   "metadata": {},
   "source": [
    "Dónde ````data```` es nuestro dataframe de actor por toma"
   ]
  },
  {
   "cell_type": "markdown",
   "id": "281b600c-fc3d-42c9-a906-154d79f0a257",
   "metadata": {},
   "source": [
    "## 4. Según el modelo para el espacio de soluciones ¿Cual es la función objetivo?"
   ]
  },
  {
   "cell_type": "markdown",
   "id": "08290ad3-e933-4edb-ab8c-fd49589da1ae",
   "metadata": {},
   "source": [
    "### Función objetivo: ````cost````"
   ]
  },
  {
   "cell_type": "markdown",
   "id": "f7c4f71e-1d35-4af8-aaf5-8f4b810a8268",
   "metadata": {
    "jp-MarkdownHeadingCollapsed": true
   },
   "source": [
    "(Las soluciones son matrices en que cada fila corresponde al día de grabación y las posiciones dentro de esta lista son 1s o 0s si la toma en esa posición se graba ese día.)"
   ]
  },
  {
   "cell_type": "code",
   "execution_count": 8,
   "id": "cdd6d97e-cae5-455e-ad5d-bb6426a2c64e",
   "metadata": {},
   "outputs": [],
   "source": [
    "def cost(solution, data):\n",
    "    \"\"\"Esta función nos devolverá los desplazamientos totales necesarios\n",
    "    \"\"\"\n",
    "    matriz = cantidad_de_tomas_por_actor(solution, data)\n",
    "    total_cost = np.count_nonzero(matriz)\n",
    "    return total_cost"
   ]
  },
  {
   "cell_type": "code",
   "execution_count": 9,
   "id": "6a139ab8-cd59-4ca6-b15c-77b685880f00",
   "metadata": {},
   "outputs": [],
   "source": [
    "def cantidad_de_tomas_por_actor(solution, data):\n",
    "    \"\"\"Con esta función relacionamos los datos con nuestra solución\n",
    "    \"\"\"\n",
    "    return solution @ data"
   ]
  },
  {
   "cell_type": "code",
   "execution_count": 10,
   "id": "5032adb6-7bf4-4567-9f9e-39976d5553e0",
   "metadata": {},
   "outputs": [
    {
     "name": "stdout",
     "output_type": "stream",
     "text": [
      "[[3 2 1]\n",
      " [0 0 0]]\n"
     ]
    }
   ],
   "source": [
    "# Solución ejemplo:\n",
    "#      toma   1 2 3\n",
    "solution1 = [[1,1,1], # día 1\n",
    "             [0,0,0]] # día 2\n",
    "\n",
    "# Datos de ejemplo:\n",
    "#            actor 1 2 3\n",
    "data1 = np.array([[1,1,0], # toma 1\n",
    "                  [1,1,0], # toma 2\n",
    "                  [1,0,1]] # toma 3\n",
    "                )\n",
    "\n",
    "print(cantidad_de_tomas_por_actor(solution1, data1))"
   ]
  },
  {
   "cell_type": "code",
   "execution_count": 11,
   "id": "dfc77527-0c62-4cff-a20a-d1ba15391acc",
   "metadata": {},
   "outputs": [
    {
     "data": {
      "text/plain": [
       "3"
      ]
     },
     "execution_count": 11,
     "metadata": {},
     "output_type": "execute_result"
    }
   ],
   "source": [
    "cost(solution1, data1)"
   ]
  },
  {
   "cell_type": "markdown",
   "id": "bd8f8b76-06ed-4767-8df6-f5db8adaa363",
   "metadata": {},
   "source": [
    "### Función de comprobación de validez: ````is_valid````"
   ]
  },
  {
   "cell_type": "markdown",
   "id": "1a9b1618-f8ca-41ff-afc9-d00a2ba90c32",
   "metadata": {
    "jp-MarkdownHeadingCollapsed": true
   },
   "source": [
    "Crearemos una función ````is_valid()````, que validará si la solución cumple las restricciones del problema."
   ]
  },
  {
   "cell_type": "code",
   "execution_count": 12,
   "id": "54225cc2-8096-4b27-be8e-90af8e227c18",
   "metadata": {},
   "outputs": [],
   "source": [
    "def is_valid(sol: np.array, data: np.array, max_shots: int = 6):\n",
    "    \n",
    "    # Si falta alguna toma por asignar, devuelve False\n",
    "    if any(np.sum(sol, axis=0) != 1): return False  \n",
    "\n",
    "    # Si se usa un actor más de \"max_shots\" veces en un día, devuelve False\n",
    "    if any([any((sol[day] @ data) > max_shots) for day in range(len(sol))]): return False\n",
    "\n",
    "    # En cualquier otro caso la solución es válida y devuelve True\n",
    "    return True"
   ]
  },
  {
   "cell_type": "markdown",
   "id": "f5ce72e9-4078-4038-8acb-cf1dcbcc1afd",
   "metadata": {},
   "source": [
    "Por ejemplo si queremos grabar todas las tomas el mismo día, con un máximo de 2 tomas al día por actor, y con los siguientes datos de ejemplo (donde las columnas corresponden a los actores y las filas a las tomas):"
   ]
  },
  {
   "cell_type": "code",
   "execution_count": 13,
   "id": "e4242281-537e-4608-9ee0-0e8ba1823a4e",
   "metadata": {},
   "outputs": [
    {
     "data": {
      "text/plain": [
       "False"
      ]
     },
     "execution_count": 13,
     "metadata": {},
     "output_type": "execute_result"
    }
   ],
   "source": [
    "# ejemplo: solution1 tiene todas las tomas el mismo día, incumpliendo el máximo de 2 tomas al día por actor\n",
    "is_valid(solution1, data1, max_shots = 2)"
   ]
  },
  {
   "cell_type": "markdown",
   "id": "71b7f810-975c-4d65-b446-d0b9efda4058",
   "metadata": {},
   "source": [
    "## 5. ¿Es un problema de maximización o minimización?"
   ]
  },
  {
   "cell_type": "markdown",
   "id": "501247fd-8def-4880-825e-54b9ff707b58",
   "metadata": {},
   "source": [
    "Es un problema de minimización de coste, donde el coste es el número de desplazamientos totales"
   ]
  },
  {
   "cell_type": "markdown",
   "id": "51487722-88d0-4563-87e0-7bec3920b3ad",
   "metadata": {},
   "source": [
    "## 6. Diseña un algoritmo para resolver el problema por fuerza bruta"
   ]
  },
  {
   "cell_type": "markdown",
   "id": "f6eebb44-7904-42ff-a355-7db6a8b66440",
   "metadata": {},
   "source": [
    "- **Número máximo de días:** Una toma al día. Por tanto, equivalente al número de tomas."
   ]
  },
  {
   "cell_type": "code",
   "execution_count": 14,
   "id": "2a28e5b4-4b32-4c08-99ce-505d174d867b",
   "metadata": {},
   "outputs": [
    {
     "data": {
      "text/plain": [
       "30"
      ]
     },
     "execution_count": 14,
     "metadata": {},
     "output_type": "execute_result"
    }
   ],
   "source": [
    "def max_days(data):\n",
    "    return len(data)\n",
    "\n",
    "max_days(data)"
   ]
  },
  {
   "cell_type": "markdown",
   "id": "101999fa-9e15-4560-af4c-44072f7e81c6",
   "metadata": {},
   "source": [
    "- **Número mínimo de días:** El número de tomas que graba el actor con más tomas asignadas, dividido por el máximo de tomas que puede grabar ese actor al día."
   ]
  },
  {
   "cell_type": "code",
   "execution_count": 15,
   "id": "81331404-2a3f-4485-9167-fbce09c48e0a",
   "metadata": {},
   "outputs": [
    {
     "data": {
      "text/plain": [
       "4"
      ]
     },
     "execution_count": 15,
     "metadata": {},
     "output_type": "execute_result"
    }
   ],
   "source": [
    "def min_days(data, max_shots):\n",
    "    shots = max(np.sum(data, axis = 0))  # Tomas del actor con más tomas\n",
    "    return math.ceil(shots / max_shots)  # Redondear hacia arriba\n",
    "\n",
    "min_days(data, max_shots=6)"
   ]
  },
  {
   "cell_type": "markdown",
   "id": "48931b80-ec01-40a7-a363-6d57c1698571",
   "metadata": {},
   "source": [
    "_Dónde ````data```` es nuestro dataframe de actor por toma_"
   ]
  },
  {
   "cell_type": "markdown",
   "id": "f1927819-3a5d-4400-997b-af10a1a8b8b3",
   "metadata": {},
   "source": [
    "- **Algoritmo por fuerza bruta:** Recorreremos todas las posibles permutaciones de tomas para una cantidad de días N, evaluaremos si son soluciones válidas, y en el caso de que sean válidas, calcularemos su coste. Recorreremos todas las posibilidades hasta encontrar el coste mínimo. Haremos esto desde el mínimo de días posible, hasta el máximo, para no dejarnos ninguna posible organización de días."
   ]
  },
  {
   "cell_type": "code",
   "execution_count": 16,
   "id": "ae721928-0b74-4123-ba85-1b6b36f4c810",
   "metadata": {},
   "outputs": [],
   "source": [
    "def solution_generator(DAYS, SHOTS):\n",
    "\n",
    "    # Inicializar la solución con todas las tomas en el primer día\n",
    "    solution = np.zeros((DAYS, SHOTS), dtype=int)\n",
    "    solution[0] = 1  # Todas las tomas el primer día\n",
    "\n",
    "    while True:\n",
    "        yield solution\n",
    "        if all(solution[-1] == 1):  # Todas las tomas el último día\n",
    "            return                  # Interrumpimos la generación\n",
    "        \n",
    "        # Comprobar qué posición toca cambiar\n",
    "        last_day_shots = solution[-1]\n",
    "        c = 0\n",
    "        for shot in last_day_shots:\n",
    "            if shot == 1:\n",
    "                c += 1\n",
    "            else:\n",
    "                break\n",
    "        \n",
    "        # Aplicar el cambio (rotación)\n",
    "        for pos in range(0, c + 1):\n",
    "            shot = solution[:, pos]\n",
    "            if shot.size > 0:\n",
    "                last_element = shot[-1]    # Guardar el último elemento\n",
    "                shot[1:] = shot[:-1]       # Desplazar elementos a la derecha\n",
    "                shot[0] = last_element     # Colocar el último elemento en la primera posición\n"
   ]
  },
  {
   "cell_type": "code",
   "execution_count": 17,
   "id": "6e38a11b-a908-4170-a3f2-8e4bad4ffd76",
   "metadata": {},
   "outputs": [],
   "source": [
    "def brute_force_solve(data, max_shots=6):\n",
    "\n",
    "    # Inicializamos variables\n",
    "    best_cost = data.size  # inicializar con el máximo coste\n",
    "    min_day = min_days(data, max_shots)\n",
    "    max_day = max_days(data)\n",
    "    SHOTS = len(data)\n",
    "\n",
    "    # MAIN LOOP: Búsqueda por todos los días\n",
    "    for DAYS in range(min_day, max_day+1):\n",
    "        for solution in solution_generator(DAYS, SHOTS):\n",
    "            if is_valid(solution, data, max_shots):\n",
    "                new_cost = cost(solution, data)\n",
    "                if new_cost < best_cost:\n",
    "                    print(f\"Optimized solution! Cost: {new_cost}\")\n",
    "                    best_cost = new_cost\n",
    "                    best_solution = solution.copy()\n",
    "\n",
    "    # Versón legible, con las tomas que se deben grabar cada día\n",
    "    readable = {}\n",
    "    for idx, day in enumerate(best_solution):\n",
    "        shots = np.where(day == 1)[0]\n",
    "        k = \"Day \" + str(idx + 1)\n",
    "        readable[k] = list(shots)\n",
    "    \n",
    "    return {\"best solution\": readable, \"solution cost\": best_cost, \"array solution\": best_solution}"
   ]
  },
  {
   "cell_type": "code",
   "execution_count": 18,
   "id": "a3e6e960-1f51-49e6-9efd-437259c7811c",
   "metadata": {},
   "outputs": [
    {
     "name": "stdout",
     "output_type": "stream",
     "text": [
      "Optimized solution! Cost: 5\n",
      "Optimized solution! Cost: 4\n"
     ]
    },
    {
     "data": {
      "text/plain": [
       "{'best solution': {'Day 1': [2], 'Day 2': [0, 1]},\n",
       " 'solution cost': 4,\n",
       " 'array solution': array([[0, 0, 1],\n",
       "        [1, 1, 0]])}"
      ]
     },
     "execution_count": 18,
     "metadata": {},
     "output_type": "execute_result"
    }
   ],
   "source": [
    "# Datos de ejemplo:\n",
    "#            actor 1  2  3\n",
    "data2 = np.array([[1, 1, 0], # toma 1\n",
    "                  [1, 1, 0], # toma 2\n",
    "                  [1, 0, 1]] # toma 3\n",
    "                )\n",
    "brute_force_solve(data2, max_shots=2)"
   ]
  },
  {
   "cell_type": "markdown",
   "id": "45086b8a-72dc-4835-9ba9-18a1b031beff",
   "metadata": {},
   "source": [
    "## 7. Calcula la complejidad del algoritmo por fuerza bruta"
   ]
  },
  {
   "cell_type": "markdown",
   "id": "9e6c9845-6304-43e0-8357-9956fcbdaff2",
   "metadata": {},
   "source": [
    "El algoritmo por fuerza bruta ````brute_force_solve```` tiene una complejidad de $O(n^3)$.\n",
    "\n",
    "Hay dos bucles for anidados que cuentan cómo $n^2$:\n",
    "\n",
    "````Python\n",
    "for DAYS in range(min_day, max_day+1):\n",
    "    for solution in solution_generator(DAYS, SHOTS):\n",
    "````\n",
    "\n",
    "Y dentro de la función ````solution_generator```` hay sólo dos bucles for no anidados entre ellos, que añaden un factor $n$ de complejidad."
   ]
  },
  {
   "cell_type": "markdown",
   "id": "173b263a-d382-4025-b586-2ce9962ad9f4",
   "metadata": {},
   "source": [
    "## 8. Diseña un algoritmo que mejore la complejidad del algortimo por fuerza bruta. Argumenta porque crees que mejora el algoritmo por fuerza bruta"
   ]
  },
  {
   "cell_type": "markdown",
   "id": "921f53d7-0e03-4ee1-9868-12b73bb3ea53",
   "metadata": {},
   "source": [
    "### Solución por búsqueda aleatoria\n",
    "\n",
    "Vamos a generar un algoritmo de generación de soluciones aleatorias, hasta encontrar una solución que nos dé un número de días suficientemente corto. Aunque vamos a generar soluciones aleatorias, debemos tener en cuenta que existe un número máximo de días (solución menos óptima), al igual que un número mínimo (solución ideal de existencia no asegurada)"
   ]
  },
  {
   "cell_type": "code",
   "execution_count": 19,
   "id": "ae220689-b757-41cc-832a-ed077f9a5760",
   "metadata": {},
   "outputs": [],
   "source": [
    "def generate_random_solution(data: pd.DataFrame, days_objective: int, max_shots: int = 6):\n",
    "    \n",
    "    random_solution = np.zeros((days_objective, len(data)), dtype=int)  # Inicializar el array soluicón, dónde las filas representan los días, y las columnas las tomas\n",
    "    assigned_days = np.random.randint(0, days_objective, size=len(data))  # Asignar cada toma a un día\n",
    "    \n",
    "    for day, toma in enumerate(assigned_days):\n",
    "        random_solution[toma, day] = 1  # Transformar la asignación de días a formato booleano\n",
    "\n",
    "    return random_solution"
   ]
  },
  {
   "cell_type": "markdown",
   "id": "9b8c7df4-94a5-48b9-8c3f-ec5faf797bd9",
   "metadata": {},
   "source": [
    "Ahora, vamos a diseñar un algoritmo que recorra un bucle hasta encontrar una solución válida. Además, incluiremos un control para tiempos de iteración demasiado largos, que podremos acotar con el parámetro ````max_iter````."
   ]
  },
  {
   "cell_type": "code",
   "execution_count": 20,
   "id": "eab4c4ac-9338-40c6-93b1-6cac09040110",
   "metadata": {},
   "outputs": [],
   "source": [
    "def generate_valid_solution(ndays: int, data, max_iter=500, max_shots=6):\n",
    "    for _ in range(max_iter):\n",
    "        proposed_sol = generate_random_solution(data, days_objective = ndays, max_shots = max_shots)\n",
    "        if is_valid(proposed_sol, data, max_shots):\n",
    "            return proposed_sol\n",
    "\n",
    "    return None"
   ]
  },
  {
   "cell_type": "markdown",
   "id": "bc675d8c-cea9-4eca-9653-78d6182197b3",
   "metadata": {},
   "source": [
    "Y, en caso de no encontrar una solución en ese número de iteraciones, buscaremos una solución con un día más."
   ]
  },
  {
   "cell_type": "code",
   "execution_count": 21,
   "id": "36936b41-266e-4df6-8f81-a7c8b9f3a1d0",
   "metadata": {},
   "outputs": [],
   "source": [
    "def random_solve(data: pd.DataFrame, max_shots=6, max_iter=500):\n",
    "\n",
    "    # Inicializamos variables\n",
    "    current_cost = data.size  # inicializar con el máximo coste\n",
    "    min_day = min_days(data, max_shots)\n",
    "    max_day = math.ceil(len(data) // max_shots)\n",
    "\n",
    "    # MAIN LOOP: búsqueda de soluciones\n",
    "    for ndays in range(min_day, max_day + 1):\n",
    "        for _ in range(max_iter):\n",
    "            new = generate_valid_solution(ndays, data, max_iter, max_shots)\n",
    "            if new is not None:\n",
    "                new_cost = cost(solution=new, data=data)\n",
    "                if new_cost < current_cost:\n",
    "                    current_cost = new_cost\n",
    "                    best_solution = new\n",
    "\n",
    "    # Versón legible, con las tomas que se deben grabar cada día\n",
    "    readable = {}\n",
    "    for idx, day in enumerate(best_solution):\n",
    "        shots = np.where(day == 1)[0]\n",
    "        k = \"Day \" + str(idx + 1)\n",
    "        readable[k] = list(shots)\n",
    "    \n",
    "    return {\"best solution\": readable, \"solution cost\": current_cost, \"array solution\": best_solution}"
   ]
  },
  {
   "cell_type": "code",
   "execution_count": 22,
   "id": "d15c7746-73bb-45a8-88f7-00d05606e6c9",
   "metadata": {},
   "outputs": [
    {
     "name": "stdout",
     "output_type": "stream",
     "text": [
      "CPU times: total: 7.36 s\n",
      "Wall time: 7.36 s\n"
     ]
    }
   ],
   "source": [
    "%%time\n",
    "random_solve_solution = random_solve(data)"
   ]
  },
  {
   "cell_type": "code",
   "execution_count": 23,
   "id": "0c8a6dc8-3191-46bd-9de3-750b8b4819dc",
   "metadata": {},
   "outputs": [
    {
     "data": {
      "text/plain": [
       "{'best solution': {'Day 1': [0, 1, 4, 5, 9, 10, 20, 22, 25],\n",
       "  'Day 2': [6, 8, 16, 21, 26],\n",
       "  'Day 3': [2, 3, 11, 14, 19, 27, 28],\n",
       "  'Day 4': [7, 12, 13, 15, 17, 18, 23, 24, 29]},\n",
       " 'solution cost': 28,\n",
       " 'array solution': array([[1, 1, 0, 0, 1, 1, 0, 0, 0, 1, 1, 0, 0, 0, 0, 0, 0, 0, 0, 0, 1, 0,\n",
       "         1, 0, 0, 1, 0, 0, 0, 0],\n",
       "        [0, 0, 0, 0, 0, 0, 1, 0, 1, 0, 0, 0, 0, 0, 0, 0, 1, 0, 0, 0, 0, 1,\n",
       "         0, 0, 0, 0, 1, 0, 0, 0],\n",
       "        [0, 0, 1, 1, 0, 0, 0, 0, 0, 0, 0, 1, 0, 0, 1, 0, 0, 0, 0, 1, 0, 0,\n",
       "         0, 0, 0, 0, 0, 1, 1, 0],\n",
       "        [0, 0, 0, 0, 0, 0, 0, 1, 0, 0, 0, 0, 1, 1, 0, 1, 0, 1, 1, 0, 0, 0,\n",
       "         0, 1, 1, 0, 0, 0, 0, 1]])}"
      ]
     },
     "execution_count": 23,
     "metadata": {},
     "output_type": "execute_result"
    }
   ],
   "source": [
    "random_solve_solution"
   ]
  },
  {
   "cell_type": "markdown",
   "id": "27cb6e01-fbc2-4354-b53e-87a152bbcf1e",
   "metadata": {},
   "source": [
    "## 9. Calcula la complejidad del algoritmo"
   ]
  },
  {
   "cell_type": "markdown",
   "id": "c4b83597-f74e-4269-a597-87cfdc3680cc",
   "metadata": {},
   "source": [
    "La complejidad del algoritmo de búsqueda aleatoria es $O(n^2)$\n",
    "\n",
    "En el loop de búsqueda de soluciones hay dos bucles anidados, pero el segundo bucle itera sobre una constante definida por ````max_iter````, de modo que esto es una constante y no crece con las dimensiones del problema. En cambio ````ndays```` sí que puede crecer con el tamaño de datos de entrada, que añade un factor $n$ de complejidad.\n",
    "\n",
    "````Python\n",
    "for ndays in range(min_day, max_day + 1):\n",
    "        for _ in range(max_iter):\n",
    "            new = generate_valid_solution(ndays, data, max_iter)\n",
    "````\n",
    "\n",
    "La función ````generate_valid_solution````, también esta limitada por un factor de iteraciones máximas, de módo que no añade orden de complejidad al algoritmo, pero contiene a la función ````generate_random_solution````, que sí que contiene un bucle for que crece con las dimensiones del problema, añadiendo un factor $n$ de complejidad:\n",
    "\n",
    "````Python\n",
    "for day, toma in enumerate(assigned_days):\n",
    "````"
   ]
  },
  {
   "cell_type": "markdown",
   "id": "26e51fe7-e823-4b4f-82d8-89cb967ede67",
   "metadata": {},
   "source": [
    "## 10. Según el problema (y tenga sentido), diseña un juego de datos de entrada aleatorios"
   ]
  },
  {
   "cell_type": "markdown",
   "id": "0960840f-83e3-4a6c-8715-3c790a56a436",
   "metadata": {},
   "source": [
    "Para diseñar un juego de datos aleatorio, pero con sentido, debemos asegurar que todas las tomas tienen al menos un actor presente.\n",
    "Para controlar la densidad de ocupación de las tomas, es decir, la densidad de población, añadiremos un parámetro:\n",
    "\n",
    "- ````population_density````: fracción entre 0 y 1 que indicará la fracción de ocupación de tomas respecto al total"
   ]
  },
  {
   "cell_type": "code",
   "execution_count": 24,
   "id": "8768731a-dbab-4b8a-97aa-f5b797b2eeba",
   "metadata": {},
   "outputs": [],
   "source": [
    "def generate_random_dataset(shots: int, actors: int, population_density: float):\n",
    "\n",
    "    if (population_density <= 0) or (population_density > 1):\n",
    "        raise ValueError(\"population_density should be a value in the range (0, 1]\")\n",
    "\n",
    "    # Inicializar el array dataset, dónde las filas representan los tomas, y las columnas los actores\n",
    "    random_dataset = np.zeros((shots, actors), dtype=int) \n",
    "\n",
    "    # Asignar tomas a los actores hasta alcanzar el mínimo de población\n",
    "    while (np.sum(random_dataset) / random_dataset.size) < population_density:  # Asegurar el mínimo de población\n",
    "        assigned_actors_to_shot = np.random.randint(0, actors, size=shots)  # Asignar cada toma a un actor\n",
    "        for shot, actor in enumerate(assigned_actors_to_shot):\n",
    "            random_dataset[shot, actor] = 1\n",
    "\n",
    "    return random_dataset"
   ]
  },
  {
   "cell_type": "code",
   "execution_count": 25,
   "id": "26874e95-1270-4315-955e-3ec6eead2462",
   "metadata": {
    "scrolled": true
   },
   "outputs": [
    {
     "name": "stdout",
     "output_type": "stream",
     "text": [
      "Éxito! Todas las tomas tienen al menos un actor.\n"
     ]
    },
    {
     "data": {
      "text/plain": [
       "array([[0, 0, 1, 1, 1, 0, 1],\n",
       "       [1, 0, 0, 0, 1, 1, 1],\n",
       "       [0, 0, 1, 1, 1, 0, 0],\n",
       "       [0, 0, 1, 0, 0, 0, 1],\n",
       "       [0, 1, 1, 0, 0, 1, 0],\n",
       "       [0, 1, 0, 1, 1, 0, 0],\n",
       "       [0, 1, 0, 0, 0, 0, 1]])"
      ]
     },
     "execution_count": 25,
     "metadata": {},
     "output_type": "execute_result"
    }
   ],
   "source": [
    "random_dataset = generate_random_dataset(shots=7, actors=7, population_density=.4)\n",
    "\n",
    "# Comprobamos que no hayan tomas vacías\n",
    "if all(np.sum(random_dataset, axis=1) > 0):\n",
    "    print(\"Éxito! Todas las tomas tienen al menos un actor.\")\n",
    "else:\n",
    "    print(\"Error: Hay tomas sin actores.\")\n",
    "\n",
    "random_dataset"
   ]
  },
  {
   "cell_type": "markdown",
   "id": "07cb9482-0e40-4fca-8eca-b9e6dbec81e2",
   "metadata": {},
   "source": [
    "## 11. Aplica el algoritmo al juego de datos generado"
   ]
  },
  {
   "cell_type": "markdown",
   "id": "2dfceb55-d306-4399-9a85-8a76487340af",
   "metadata": {},
   "source": [
    "Aplicaremos los dos algoritmos para comparar su precisión y agilidad. \n",
    "\n",
    "Observamos que el algoritmo de búsqueda aleatoria es mucho más rápido que el de fuerza bruta, y consigue una solución con el mismo coste que el de fuerza bruta. Es decir, este algoritmo heurístico es capaz de llegar a una solución òptima mucho más rápido."
   ]
  },
  {
   "cell_type": "markdown",
   "id": "fb860425-e045-4de9-bdc4-77772f398a7d",
   "metadata": {},
   "source": [
    "### Heurístico"
   ]
  },
  {
   "cell_type": "code",
   "execution_count": 29,
   "id": "b00a3320-77d5-4825-9f2b-46df8d9766f4",
   "metadata": {},
   "outputs": [
    {
     "name": "stdout",
     "output_type": "stream",
     "text": [
      "CPU times: total: 469 ms\n",
      "Wall time: 496 ms\n"
     ]
    },
    {
     "data": {
      "text/plain": [
       "{'best solution': {'Day 1': [0, 3, 5], 'Day 2': [1, 2, 4, 6]},\n",
       " 'solution cost': 12,\n",
       " 'array solution': array([[1, 0, 0, 1, 0, 1, 0],\n",
       "        [0, 1, 1, 0, 1, 0, 1]])}"
      ]
     },
     "execution_count": 29,
     "metadata": {},
     "output_type": "execute_result"
    }
   ],
   "source": [
    "%%time\n",
    "random_solution = random_solve(random_dataset, max_shots=2, max_iter=500)\n",
    "random_solution"
   ]
  },
  {
   "cell_type": "markdown",
   "id": "106d7e74-5ecb-41c4-af4c-af99dfb27071",
   "metadata": {},
   "source": [
    "### Fuerza bruta"
   ]
  },
  {
   "cell_type": "code",
   "execution_count": 30,
   "id": "2a133ce6-69e1-41e6-8b11-5dc20ffbd6c3",
   "metadata": {},
   "outputs": [
    {
     "name": "stdout",
     "output_type": "stream",
     "text": [
      "Optimized solution! Cost: 12\n",
      "CPU times: total: 50.9 s\n",
      "Wall time: 50.9 s\n"
     ]
    },
    {
     "data": {
      "text/plain": [
       "{'best solution': {'Day 1': [2, 3, 5, 6], 'Day 2': [0, 1, 4]},\n",
       " 'solution cost': 12,\n",
       " 'array solution': array([[0, 0, 1, 1, 0, 1, 1],\n",
       "        [1, 1, 0, 0, 1, 0, 0]])}"
      ]
     },
     "execution_count": 30,
     "metadata": {},
     "output_type": "execute_result"
    }
   ],
   "source": [
    "%%time\n",
    "brute_force_solution = brute_force_solve(random_dataset, max_shots=2)\n",
    "brute_force_solution"
   ]
  },
  {
   "cell_type": "markdown",
   "id": "62c218aa-b30e-46d2-871b-c14cb259d939",
   "metadata": {},
   "source": [
    "## 12. Enumera las referencias que has utilizado(si ha sido necesario) para llevar a cabo el trabajo"
   ]
  },
  {
   "cell_type": "markdown",
   "id": "b5ed7746-5267-42eb-a730-4f0bd1e46017",
   "metadata": {},
   "source": [
    "[1] Alberto Caldas Lima, [Aplicación de algoritmos heurísticos para optimizar el coste de doblaje de películas](http://eio.usc.es/pub/mte/descargas/ProyectosFinMaster/Proyecto_759.pdf)\n",
    "\n",
    "[2] Wikipedia, [Bell Number](https://en.wikipedia.org/wiki/Bell_number)\n",
    "\n",
    "[3] Rajeev Agrawal, [Bell Numbers (Number of ways to Partition a Set)](https://www.geeksforgeeks.org/bell-numbers-number-of-ways-to-partition-a-set/)"
   ]
  },
  {
   "cell_type": "markdown",
   "id": "532209b3-c130-49b8-ab38-f5f0dcc7a66a",
   "metadata": {},
   "source": [
    "## 13. Describe brevemente las lineas de como crees que es posible avanzar en el estudio del problema. Ten en cuenta incluso posibles variaciones del problema y/o variaciones al alza del tamaño"
   ]
  },
  {
   "cell_type": "markdown",
   "id": "c1fffad7-361a-4094-9086-f5a350e86ce6",
   "metadata": {},
   "source": [
    "Respuesta"
   ]
  },
  {
   "cell_type": "markdown",
   "id": "c028af9b-247d-4076-b61b-406f3ba46877",
   "metadata": {},
   "source": [
    "Se debería de plantear un heurístico más eficiente, que hiciera cambios para minimizar el coste, y no de forma aleatoria."
   ]
  },
  {
   "cell_type": "code",
   "execution_count": null,
   "id": "b259e532-a61f-406d-aa49-54aeb35d6ba9",
   "metadata": {},
   "outputs": [],
   "source": []
  }
 ],
 "metadata": {
  "kernelspec": {
   "display_name": "Python 3 (ipykernel)",
   "language": "python",
   "name": "python3"
  },
  "language_info": {
   "codemirror_mode": {
    "name": "ipython",
    "version": 3
   },
   "file_extension": ".py",
   "mimetype": "text/x-python",
   "name": "python",
   "nbconvert_exporter": "python",
   "pygments_lexer": "ipython3",
   "version": "3.11.9"
  }
 },
 "nbformat": 4,
 "nbformat_minor": 5
}
