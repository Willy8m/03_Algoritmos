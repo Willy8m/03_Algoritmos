{
 "cells": [
  {
   "cell_type": "markdown",
   "id": "3f0b6166-cad2-4da4-8334-6d7ac25fa944",
   "metadata": {},
   "source": [
    "# Algoritmos de optimización - Seminario<br>\n",
    "Nombre y Apellidos: Guillem Barta Gonzàlez<br>\n",
    "https://github.com/Willy8m/03_Algoritmos/SEMINARIO\n",
    "\n",
    "Problema:\n",
    "> 1. Sesiones de doblaje <br>\n",
    "\n",
    "Se precisa coordinar el doblaje de una película. Los actores del doblaje deben coincidir en las tomas en las que sus personajes aparecen juntos en las diferentes tomas. Los actores de doblaje cobran todos la misma cantidad por cada día que deben desplazarse hasta el estudio de grabación independientemente del número de tomas que se graben. No es posible grabar más de 6 tomas por día. El objetivo es planificar las sesiones por día de manera que el gasto por los servicios de los actores de doblaje sea el menor posible. \n",
    "\n",
    "Los datos son: \n",
    "- Número de actores: 10 \n",
    "- Número de tomas : 30\n",
    "- Actores/Tomas : https://bit.ly/36D8IuK\n",
    "  - 1 indica que el actor participa en la toma\n",
    "  - 0 en caso contrario\n",
    "\n",
    "### Información clave\n",
    "\n",
    "Hay que encontrar que combinación de tomas resulta en el menor número de dias de doblaje.\n",
    "\n",
    "Restricciones a tener en cuenta:\n",
    "- Cada actor puede completar cómo máximo, 6 tomas al día.\n",
    "- Los actores de una misma toma deben asistir el mismo día para grabar dicha toma.\n",
    "\n",
    "(*) La respuesta es obligatoria"
   ]
  },
  {
   "cell_type": "code",
   "execution_count": 3,
   "id": "0180d4a5-e763-417c-84d7-50d8d0bb2a1f",
   "metadata": {},
   "outputs": [],
   "source": [
    "import math\n",
    "import pandas as pd\n",
    "import numpy as np"
   ]
  },
  {
   "cell_type": "code",
   "execution_count": 81,
   "id": "a32d9e3f-5f69-48d6-92e4-d2a07aa70698",
   "metadata": {
    "scrolled": true
   },
   "outputs": [],
   "source": [
    "# Load data\n",
    "df = pd.read_excel('Datos problema doblaje(30 tomas, 10 actores).xlsx', header = 1, index_col = 0)"
   ]
  },
  {
   "cell_type": "code",
   "execution_count": 82,
   "id": "3f2bc3ac-0eb1-4778-a081-7fd6d4807d55",
   "metadata": {},
   "outputs": [
    {
     "data": {
      "text/html": [
       "<div>\n",
       "<style scoped>\n",
       "    .dataframe tbody tr th:only-of-type {\n",
       "        vertical-align: middle;\n",
       "    }\n",
       "\n",
       "    .dataframe tbody tr th {\n",
       "        vertical-align: top;\n",
       "    }\n",
       "\n",
       "    .dataframe thead th {\n",
       "        text-align: right;\n",
       "    }\n",
       "</style>\n",
       "<table border=\"1\" class=\"dataframe\">\n",
       "  <thead>\n",
       "    <tr style=\"text-align: right;\">\n",
       "      <th></th>\n",
       "      <th>1</th>\n",
       "      <th>2</th>\n",
       "      <th>3</th>\n",
       "      <th>4</th>\n",
       "      <th>5</th>\n",
       "      <th>6</th>\n",
       "      <th>7</th>\n",
       "      <th>8</th>\n",
       "      <th>9</th>\n",
       "      <th>10</th>\n",
       "    </tr>\n",
       "    <tr>\n",
       "      <th>Toma</th>\n",
       "      <th></th>\n",
       "      <th></th>\n",
       "      <th></th>\n",
       "      <th></th>\n",
       "      <th></th>\n",
       "      <th></th>\n",
       "      <th></th>\n",
       "      <th></th>\n",
       "      <th></th>\n",
       "      <th></th>\n",
       "    </tr>\n",
       "  </thead>\n",
       "  <tbody>\n",
       "    <tr>\n",
       "      <th>1</th>\n",
       "      <td>1</td>\n",
       "      <td>1</td>\n",
       "      <td>1</td>\n",
       "      <td>1</td>\n",
       "      <td>1</td>\n",
       "      <td>0</td>\n",
       "      <td>0</td>\n",
       "      <td>0</td>\n",
       "      <td>0</td>\n",
       "      <td>0</td>\n",
       "    </tr>\n",
       "    <tr>\n",
       "      <th>2</th>\n",
       "      <td>0</td>\n",
       "      <td>0</td>\n",
       "      <td>1</td>\n",
       "      <td>1</td>\n",
       "      <td>1</td>\n",
       "      <td>0</td>\n",
       "      <td>0</td>\n",
       "      <td>0</td>\n",
       "      <td>0</td>\n",
       "      <td>0</td>\n",
       "    </tr>\n",
       "    <tr>\n",
       "      <th>3</th>\n",
       "      <td>0</td>\n",
       "      <td>1</td>\n",
       "      <td>0</td>\n",
       "      <td>0</td>\n",
       "      <td>1</td>\n",
       "      <td>0</td>\n",
       "      <td>1</td>\n",
       "      <td>0</td>\n",
       "      <td>0</td>\n",
       "      <td>0</td>\n",
       "    </tr>\n",
       "    <tr>\n",
       "      <th>4</th>\n",
       "      <td>1</td>\n",
       "      <td>1</td>\n",
       "      <td>0</td>\n",
       "      <td>0</td>\n",
       "      <td>0</td>\n",
       "      <td>0</td>\n",
       "      <td>1</td>\n",
       "      <td>1</td>\n",
       "      <td>0</td>\n",
       "      <td>0</td>\n",
       "    </tr>\n",
       "    <tr>\n",
       "      <th>5</th>\n",
       "      <td>0</td>\n",
       "      <td>1</td>\n",
       "      <td>0</td>\n",
       "      <td>1</td>\n",
       "      <td>0</td>\n",
       "      <td>0</td>\n",
       "      <td>0</td>\n",
       "      <td>1</td>\n",
       "      <td>0</td>\n",
       "      <td>0</td>\n",
       "    </tr>\n",
       "    <tr>\n",
       "      <th>6</th>\n",
       "      <td>1</td>\n",
       "      <td>1</td>\n",
       "      <td>0</td>\n",
       "      <td>1</td>\n",
       "      <td>1</td>\n",
       "      <td>0</td>\n",
       "      <td>0</td>\n",
       "      <td>0</td>\n",
       "      <td>0</td>\n",
       "      <td>0</td>\n",
       "    </tr>\n",
       "    <tr>\n",
       "      <th>7</th>\n",
       "      <td>1</td>\n",
       "      <td>1</td>\n",
       "      <td>0</td>\n",
       "      <td>1</td>\n",
       "      <td>1</td>\n",
       "      <td>0</td>\n",
       "      <td>0</td>\n",
       "      <td>0</td>\n",
       "      <td>0</td>\n",
       "      <td>0</td>\n",
       "    </tr>\n",
       "    <tr>\n",
       "      <th>8</th>\n",
       "      <td>1</td>\n",
       "      <td>1</td>\n",
       "      <td>0</td>\n",
       "      <td>0</td>\n",
       "      <td>0</td>\n",
       "      <td>1</td>\n",
       "      <td>0</td>\n",
       "      <td>0</td>\n",
       "      <td>0</td>\n",
       "      <td>0</td>\n",
       "    </tr>\n",
       "    <tr>\n",
       "      <th>9</th>\n",
       "      <td>1</td>\n",
       "      <td>1</td>\n",
       "      <td>0</td>\n",
       "      <td>1</td>\n",
       "      <td>0</td>\n",
       "      <td>0</td>\n",
       "      <td>0</td>\n",
       "      <td>0</td>\n",
       "      <td>0</td>\n",
       "      <td>0</td>\n",
       "    </tr>\n",
       "    <tr>\n",
       "      <th>10</th>\n",
       "      <td>1</td>\n",
       "      <td>1</td>\n",
       "      <td>0</td>\n",
       "      <td>0</td>\n",
       "      <td>0</td>\n",
       "      <td>1</td>\n",
       "      <td>0</td>\n",
       "      <td>0</td>\n",
       "      <td>1</td>\n",
       "      <td>0</td>\n",
       "    </tr>\n",
       "    <tr>\n",
       "      <th>11</th>\n",
       "      <td>1</td>\n",
       "      <td>1</td>\n",
       "      <td>1</td>\n",
       "      <td>0</td>\n",
       "      <td>1</td>\n",
       "      <td>0</td>\n",
       "      <td>0</td>\n",
       "      <td>1</td>\n",
       "      <td>0</td>\n",
       "      <td>0</td>\n",
       "    </tr>\n",
       "    <tr>\n",
       "      <th>12</th>\n",
       "      <td>1</td>\n",
       "      <td>1</td>\n",
       "      <td>1</td>\n",
       "      <td>1</td>\n",
       "      <td>0</td>\n",
       "      <td>1</td>\n",
       "      <td>0</td>\n",
       "      <td>0</td>\n",
       "      <td>0</td>\n",
       "      <td>0</td>\n",
       "    </tr>\n",
       "    <tr>\n",
       "      <th>13</th>\n",
       "      <td>1</td>\n",
       "      <td>0</td>\n",
       "      <td>0</td>\n",
       "      <td>1</td>\n",
       "      <td>1</td>\n",
       "      <td>0</td>\n",
       "      <td>0</td>\n",
       "      <td>0</td>\n",
       "      <td>0</td>\n",
       "      <td>0</td>\n",
       "    </tr>\n",
       "    <tr>\n",
       "      <th>14</th>\n",
       "      <td>1</td>\n",
       "      <td>0</td>\n",
       "      <td>1</td>\n",
       "      <td>0</td>\n",
       "      <td>0</td>\n",
       "      <td>1</td>\n",
       "      <td>0</td>\n",
       "      <td>0</td>\n",
       "      <td>0</td>\n",
       "      <td>0</td>\n",
       "    </tr>\n",
       "    <tr>\n",
       "      <th>15</th>\n",
       "      <td>1</td>\n",
       "      <td>1</td>\n",
       "      <td>0</td>\n",
       "      <td>0</td>\n",
       "      <td>0</td>\n",
       "      <td>0</td>\n",
       "      <td>1</td>\n",
       "      <td>0</td>\n",
       "      <td>0</td>\n",
       "      <td>0</td>\n",
       "    </tr>\n",
       "    <tr>\n",
       "      <th>16</th>\n",
       "      <td>0</td>\n",
       "      <td>0</td>\n",
       "      <td>0</td>\n",
       "      <td>1</td>\n",
       "      <td>0</td>\n",
       "      <td>0</td>\n",
       "      <td>0</td>\n",
       "      <td>0</td>\n",
       "      <td>0</td>\n",
       "      <td>1</td>\n",
       "    </tr>\n",
       "    <tr>\n",
       "      <th>17</th>\n",
       "      <td>1</td>\n",
       "      <td>0</td>\n",
       "      <td>1</td>\n",
       "      <td>0</td>\n",
       "      <td>0</td>\n",
       "      <td>0</td>\n",
       "      <td>0</td>\n",
       "      <td>0</td>\n",
       "      <td>0</td>\n",
       "      <td>0</td>\n",
       "    </tr>\n",
       "    <tr>\n",
       "      <th>18</th>\n",
       "      <td>0</td>\n",
       "      <td>0</td>\n",
       "      <td>1</td>\n",
       "      <td>0</td>\n",
       "      <td>0</td>\n",
       "      <td>1</td>\n",
       "      <td>0</td>\n",
       "      <td>0</td>\n",
       "      <td>0</td>\n",
       "      <td>0</td>\n",
       "    </tr>\n",
       "    <tr>\n",
       "      <th>19</th>\n",
       "      <td>1</td>\n",
       "      <td>0</td>\n",
       "      <td>1</td>\n",
       "      <td>0</td>\n",
       "      <td>0</td>\n",
       "      <td>0</td>\n",
       "      <td>0</td>\n",
       "      <td>0</td>\n",
       "      <td>0</td>\n",
       "      <td>0</td>\n",
       "    </tr>\n",
       "    <tr>\n",
       "      <th>20</th>\n",
       "      <td>1</td>\n",
       "      <td>0</td>\n",
       "      <td>1</td>\n",
       "      <td>1</td>\n",
       "      <td>1</td>\n",
       "      <td>0</td>\n",
       "      <td>0</td>\n",
       "      <td>0</td>\n",
       "      <td>0</td>\n",
       "      <td>0</td>\n",
       "    </tr>\n",
       "    <tr>\n",
       "      <th>21</th>\n",
       "      <td>0</td>\n",
       "      <td>0</td>\n",
       "      <td>0</td>\n",
       "      <td>0</td>\n",
       "      <td>0</td>\n",
       "      <td>1</td>\n",
       "      <td>0</td>\n",
       "      <td>1</td>\n",
       "      <td>0</td>\n",
       "      <td>0</td>\n",
       "    </tr>\n",
       "    <tr>\n",
       "      <th>22</th>\n",
       "      <td>1</td>\n",
       "      <td>1</td>\n",
       "      <td>1</td>\n",
       "      <td>1</td>\n",
       "      <td>0</td>\n",
       "      <td>0</td>\n",
       "      <td>0</td>\n",
       "      <td>0</td>\n",
       "      <td>0</td>\n",
       "      <td>0</td>\n",
       "    </tr>\n",
       "    <tr>\n",
       "      <th>23</th>\n",
       "      <td>1</td>\n",
       "      <td>0</td>\n",
       "      <td>1</td>\n",
       "      <td>0</td>\n",
       "      <td>0</td>\n",
       "      <td>0</td>\n",
       "      <td>0</td>\n",
       "      <td>0</td>\n",
       "      <td>0</td>\n",
       "      <td>0</td>\n",
       "    </tr>\n",
       "    <tr>\n",
       "      <th>24</th>\n",
       "      <td>0</td>\n",
       "      <td>0</td>\n",
       "      <td>1</td>\n",
       "      <td>0</td>\n",
       "      <td>0</td>\n",
       "      <td>1</td>\n",
       "      <td>0</td>\n",
       "      <td>0</td>\n",
       "      <td>0</td>\n",
       "      <td>0</td>\n",
       "    </tr>\n",
       "    <tr>\n",
       "      <th>25</th>\n",
       "      <td>1</td>\n",
       "      <td>1</td>\n",
       "      <td>0</td>\n",
       "      <td>1</td>\n",
       "      <td>0</td>\n",
       "      <td>0</td>\n",
       "      <td>0</td>\n",
       "      <td>0</td>\n",
       "      <td>0</td>\n",
       "      <td>1</td>\n",
       "    </tr>\n",
       "    <tr>\n",
       "      <th>26</th>\n",
       "      <td>1</td>\n",
       "      <td>0</td>\n",
       "      <td>1</td>\n",
       "      <td>0</td>\n",
       "      <td>1</td>\n",
       "      <td>0</td>\n",
       "      <td>0</td>\n",
       "      <td>0</td>\n",
       "      <td>1</td>\n",
       "      <td>0</td>\n",
       "    </tr>\n",
       "    <tr>\n",
       "      <th>27</th>\n",
       "      <td>0</td>\n",
       "      <td>0</td>\n",
       "      <td>0</td>\n",
       "      <td>1</td>\n",
       "      <td>1</td>\n",
       "      <td>0</td>\n",
       "      <td>0</td>\n",
       "      <td>0</td>\n",
       "      <td>0</td>\n",
       "      <td>0</td>\n",
       "    </tr>\n",
       "    <tr>\n",
       "      <th>28</th>\n",
       "      <td>1</td>\n",
       "      <td>0</td>\n",
       "      <td>0</td>\n",
       "      <td>1</td>\n",
       "      <td>0</td>\n",
       "      <td>0</td>\n",
       "      <td>0</td>\n",
       "      <td>0</td>\n",
       "      <td>0</td>\n",
       "      <td>0</td>\n",
       "    </tr>\n",
       "    <tr>\n",
       "      <th>29</th>\n",
       "      <td>1</td>\n",
       "      <td>0</td>\n",
       "      <td>0</td>\n",
       "      <td>0</td>\n",
       "      <td>1</td>\n",
       "      <td>1</td>\n",
       "      <td>0</td>\n",
       "      <td>0</td>\n",
       "      <td>0</td>\n",
       "      <td>0</td>\n",
       "    </tr>\n",
       "    <tr>\n",
       "      <th>30</th>\n",
       "      <td>1</td>\n",
       "      <td>0</td>\n",
       "      <td>0</td>\n",
       "      <td>1</td>\n",
       "      <td>0</td>\n",
       "      <td>0</td>\n",
       "      <td>0</td>\n",
       "      <td>0</td>\n",
       "      <td>0</td>\n",
       "      <td>0</td>\n",
       "    </tr>\n",
       "  </tbody>\n",
       "</table>\n",
       "</div>"
      ],
      "text/plain": [
       "      1  2  3  4  5  6  7  8  9  10\n",
       "Toma                               \n",
       "1     1  1  1  1  1  0  0  0  0   0\n",
       "2     0  0  1  1  1  0  0  0  0   0\n",
       "3     0  1  0  0  1  0  1  0  0   0\n",
       "4     1  1  0  0  0  0  1  1  0   0\n",
       "5     0  1  0  1  0  0  0  1  0   0\n",
       "6     1  1  0  1  1  0  0  0  0   0\n",
       "7     1  1  0  1  1  0  0  0  0   0\n",
       "8     1  1  0  0  0  1  0  0  0   0\n",
       "9     1  1  0  1  0  0  0  0  0   0\n",
       "10    1  1  0  0  0  1  0  0  1   0\n",
       "11    1  1  1  0  1  0  0  1  0   0\n",
       "12    1  1  1  1  0  1  0  0  0   0\n",
       "13    1  0  0  1  1  0  0  0  0   0\n",
       "14    1  0  1  0  0  1  0  0  0   0\n",
       "15    1  1  0  0  0  0  1  0  0   0\n",
       "16    0  0  0  1  0  0  0  0  0   1\n",
       "17    1  0  1  0  0  0  0  0  0   0\n",
       "18    0  0  1  0  0  1  0  0  0   0\n",
       "19    1  0  1  0  0  0  0  0  0   0\n",
       "20    1  0  1  1  1  0  0  0  0   0\n",
       "21    0  0  0  0  0  1  0  1  0   0\n",
       "22    1  1  1  1  0  0  0  0  0   0\n",
       "23    1  0  1  0  0  0  0  0  0   0\n",
       "24    0  0  1  0  0  1  0  0  0   0\n",
       "25    1  1  0  1  0  0  0  0  0   1\n",
       "26    1  0  1  0  1  0  0  0  1   0\n",
       "27    0  0  0  1  1  0  0  0  0   0\n",
       "28    1  0  0  1  0  0  0  0  0   0\n",
       "29    1  0  0  0  1  1  0  0  0   0\n",
       "30    1  0  0  1  0  0  0  0  0   0"
      ]
     },
     "execution_count": 82,
     "metadata": {},
     "output_type": "execute_result"
    }
   ],
   "source": [
    "# Drop columns and rows to keep only the data\n",
    "data = df[:-2].copy() # drop two last rows\n",
    "data.drop(columns=[\"Unnamed: 11\", \"Total\"], inplace=True)  # drop two last columns\n",
    "data = data.astype(int)\n",
    "\n",
    "# Restrictions\n",
    "max_shots = 6\n",
    "data"
   ]
  },
  {
   "cell_type": "markdown",
   "id": "31b8c63f-6ad3-4319-8ae9-11700e6b1155",
   "metadata": {},
   "source": [
    "__(*)¿Cuantas posibilidades hay sin tener en cuenta las restricciones?__<br>\n",
    "\n",
    "- Primera aproximación (respuesta mala):\n",
    "\n",
    "Tenemos que calcular de cuántas maneras diferentes podemos ordenar las tomas, es decir las filas de nuestro dataset. Esta cantidad se obtiene con el factorial del número de elementos. *Nota: No hay que comprobar que haya filas duplicadas, ya que las tomas de por sí son distintas (aunque a efectos del problema si serian idénticas)*"
   ]
  },
  {
   "cell_type": "code",
   "execution_count": 6,
   "id": "6e52d93b-697b-4fc9-affc-ddc6c5b8adc1",
   "metadata": {},
   "outputs": [
    {
     "data": {
      "text/plain": [
       "265252859812191058636308480000000"
      ]
     },
     "execution_count": 6,
     "metadata": {},
     "output_type": "execute_result"
    }
   ],
   "source": [
    "math.factorial(30)"
   ]
  },
  {
   "cell_type": "markdown",
   "id": "82b3213f-67eb-48f1-b33f-0125ebf7e257",
   "metadata": {},
   "source": [
    "- Análisis posterior, con referencia al estudio de Alberto Caldas Lima [1]:\n",
    "\n",
    "Debido a que ahora hemos encontrado una manera de representar el espacio de soluciones, nos damos cuenta de que el número de posibilidades no se rige por la combinación de tomas, sinó por la agrupación, sin orden, en grupos de tomas por día. Así, las posibilidades van desde tener todas las tomas el mismo día, a tener todas las tomas separadas en días distintos (caso menos eficiente).\n",
    "\n",
    "Para calcular el número de particiones posibles con 30 elementos usamos el número de Bell $B_{n}$ [2], donde \"$n$\" corresponde al número de elementos. De un algoritmo para calcular números de Bell de Rajeev Agrawal [3] se obtiene que:"
   ]
  },
  {
   "cell_type": "code",
   "execution_count": 7,
   "id": "5ce4b2dc-096b-438b-900e-d2ac3ececced",
   "metadata": {},
   "outputs": [
    {
     "name": "stdout",
     "output_type": "stream",
     "text": [
      "Possibilities:  846749014511809332450147\n"
     ]
    }
   ],
   "source": [
    "# code credit: Rajeev Agrawal\n",
    "# python program to find number of ways of partitioning it.\n",
    "n = 30\n",
    "s = [[0 for _ in range(n+1)] for _ in range(n+1)]\n",
    "for i in range(n+1):\n",
    "    for j in range(n+1):\n",
    "        if j > i:\n",
    "            continue\n",
    "        elif(i==j):\n",
    "            s[i][j] = 1\n",
    "        elif(i==0 or j==0):\n",
    "            s[i][j]=0\n",
    "        else:\n",
    "            s[i][j] = j*s[i-1][j] + s[i-1][j-1]\n",
    "ans = 0\n",
    "for i in range(0,n+1):\n",
    "    ans+=s[n][i]\n",
    "print(\"Possibilities: \", ans)"
   ]
  },
  {
   "cell_type": "markdown",
   "id": "a3184fd9-2392-43e5-9ecd-89d74892f75b",
   "metadata": {},
   "source": [
    "__¿Cuantas posibilidades hay teniendo en cuenta todas las restricciones?__"
   ]
  },
  {
   "cell_type": "markdown",
   "id": "530d4ac6-3421-46bb-9485-4dab816c0234",
   "metadata": {},
   "source": [
    "Teniendo en cuenta las restricciones, el número de posibbles combinaciones de tomas y días dependerá de la ocupación de los actores en cada toma. De módo que el número de posibles agrupaciones depende de los datos específicos de cada problema."
   ]
  },
  {
   "cell_type": "markdown",
   "id": "a2f21570-6eb3-464c-ba21-3e261167c709",
   "metadata": {},
   "source": []
  },
  {
   "cell_type": "markdown",
   "id": "36ddb2de-8e38-4832-b8da-ac56e7a3d508",
   "metadata": {},
   "source": [
    "__Modelo para el espacio de soluciones<br>__\n",
    "__(*) ¿Cual es la estructura de datos que mejor se adapta al problema? Argumentalo.(Es posible que hayas elegido una al principio y veas la necesidad de cambiar, arguentalo)__"
   ]
  },
  {
   "cell_type": "markdown",
   "id": "b3d19af3-68b8-401c-bed8-f4af0f98a46f",
   "metadata": {},
   "source": [
    "- Primera aproximación (mala respuesta):\n",
    "\n",
    "La estructura de datos que mejor se ajusta es la de una lista de listas binárias, dónde los valores binários representen la asistencia de un actor a una toma en particular. Esta estructura, entendida cómo una matriz \"$N x M$\", dónde \"$N$\" es el total de tomas y \"$M$\" el total de actores, nos indica (con 1: sí, y 0: no) si el actor \"$n$\" ha de asistir a la toma \"$m$\", en la posición \"$(n, m)$\" de la matriz. Ésta es justo la estructura que se nos brinda en el archivo de datos .xlsx\n",
    "\n",
    "- Análisis posterior, con referencia al estudio de Alberto [1]:\n",
    "\n",
    "La estructura que se ajusta mejor, es una lista de listas ````sol````, dónde cada lista contiene las tomas que se van a grabar en un determinado día. Con un 1 o un 0 en la posición de la lista correspondiente a cada toma. Además, con esta estructura podemos controlar fácilmente el número de días que se requieren para grabar todas las tomas con:\n",
    "\n",
    "```python\n",
    "sol: list[list[bool]]\n",
    "dias = len(sol)\n",
    "```\n",
    "\n",
    "Además, podemos convertir la solución en un array de numpy, y comprobar que la cantidad de tomas por actor al día no supera el máximo establecido ````max_shots = 6````, con operaciones matriciales ````@````:\n",
    "\n",
    "```python\n",
    "sol: numpy.array\n",
    "invalid_sol = any([any((sol[day] @ data) > max_shots) for day in range(len(sol))])\n",
    "```\n",
    "\n",
    "Dónde ````data```` es nuestro dataframe de actor por toma"
   ]
  },
  {
   "cell_type": "markdown",
   "id": "15b95985-9db4-4b84-9600-64c15a745bf8",
   "metadata": {},
   "source": [
    "__Según el modelo para el espacio de soluciones<br>__\n",
    "__(*)¿Cual es la función objetivo?__"
   ]
  },
  {
   "cell_type": "markdown",
   "id": "358d63b0-e3c6-4c78-ba29-1223768a9b9d",
   "metadata": {},
   "source": [
    "La función objetivo ````days()```` consiste en contar los días necesarios para grabar todas las tomas."
   ]
  },
  {
   "cell_type": "code",
   "execution_count": 8,
   "id": "1e178ef3-ac41-4f5e-a5e3-886afbe1eff2",
   "metadata": {},
   "outputs": [],
   "source": [
    "def days(sol):\n",
    "    return len(sol)"
   ]
  },
  {
   "cell_type": "code",
   "execution_count": 9,
   "id": "73d3be51-f5e3-4b1c-b95c-f6c31787bed0",
   "metadata": {},
   "outputs": [
    {
     "data": {
      "text/plain": [
       "2"
      ]
     },
     "execution_count": 9,
     "metadata": {},
     "output_type": "execute_result"
    }
   ],
   "source": [
    "# sin tener en cuenta si la solución es válida o no\n",
    "days([[1,0,0],[0,1,1]])"
   ]
  },
  {
   "cell_type": "markdown",
   "id": "966c1793-b7da-4e1c-aeb3-ac387cf1c1cd",
   "metadata": {},
   "source": [
    "Además, crearemos una función ````is_valid()```` para comprobar si una solución cumple las restricciones."
   ]
  },
  {
   "cell_type": "code",
   "execution_count": 10,
   "id": "54225cc2-8096-4b27-be8e-90af8e227c18",
   "metadata": {},
   "outputs": [],
   "source": [
    "def is_valid(sol: np.array, data: np.array, max_shots: int = 6):\n",
    "    \n",
    "    # comprobar que se graben todas las tomas una vez\n",
    "    if any(np.sum(sol, axis=0) != 1): return False  \n",
    "\n",
    "    # comprobar que en un día no se requiera a un actor más de {max_shots} veces\n",
    "    if any([any((sol[day] @ data) > max_shots) for day in range(len(sol))]): return False\n",
    "    \n",
    "    return True"
   ]
  },
  {
   "cell_type": "code",
   "execution_count": 11,
   "id": "e4242281-537e-4608-9ee0-0e8ba1823a4e",
   "metadata": {},
   "outputs": [
    {
     "data": {
      "text/plain": [
       "False"
      ]
     },
     "execution_count": 11,
     "metadata": {},
     "output_type": "execute_result"
    }
   ],
   "source": [
    "# ejemplo: todas las tomas el mismo día, con un máximo de 2 tomas al día por actor\n",
    "is_valid(\n",
    "    sol = np.array([[1,1,1], [0,0,0]]),  # todas las tomas el mismo día\n",
    "    data = np.array([[1,1,0],\n",
    "                    [1,1,0],\n",
    "                    [1,0,1]]),\n",
    "    max_shots = 2)"
   ]
  },
  {
   "cell_type": "markdown",
   "id": "3b8e6844-cbd2-49b1-bca5-1508d8d3c184",
   "metadata": {},
   "source": [
    "__(*)¿Es un problema de maximización o minimización?__"
   ]
  },
  {
   "cell_type": "markdown",
   "id": "6bbefc7d-4eb9-4958-9e60-5540f8b09c9a",
   "metadata": {},
   "source": [
    "Es un problema de minimización, ya que se pretende minimizar el número de días necesarios para grabar todas las tomas."
   ]
  },
  {
   "cell_type": "markdown",
   "id": "e572a2c5-a135-42d9-bb37-fbe37cebeac6",
   "metadata": {},
   "source": [
    "__Diseña un algoritmo para resolver el problema por fuerza bruta__"
   ]
  },
  {
   "cell_type": "code",
   "execution_count": null,
   "id": "f512a89b-d03b-4f61-907b-04320f8ca060",
   "metadata": {},
   "outputs": [],
   "source": []
  },
  {
   "cell_type": "markdown",
   "id": "e1381fbb-6dfe-4f7b-a184-cfbb2a9e64c4",
   "metadata": {},
   "source": [
    "__Calcula la complejidad del algoritmo por fuerza bruta__"
   ]
  },
  {
   "cell_type": "code",
   "execution_count": null,
   "id": "5c951656-801d-4884-901f-cac883fb8553",
   "metadata": {},
   "outputs": [],
   "source": []
  },
  {
   "cell_type": "markdown",
   "id": "173b263a-d382-4025-b586-2ce9962ad9f4",
   "metadata": {},
   "source": [
    "__(*)Diseña un algoritmo que mejore la complejidad del algortimo por fuerza bruta. Argumenta porque crees que mejora el algoritmo por fuerza bruta__"
   ]
  },
  {
   "cell_type": "markdown",
   "id": "00ba4785-e0db-4876-8e9b-d64b710f4b0b",
   "metadata": {},
   "source": [
    "Vamos a generar un algoritmo de generación de soluciones aleatorias, hasta encontrar una solución que nos dé un número de días suficientemente corto.\n",
    "\n",
    "Aunque vamos a generar soluciones aleatorias, debemos tener en cuenta que existe un número máximo de días (solución menos óptima), al igual que un número mínimo (solución ideal de existencia no asegurada):\n",
    "- **Número máximo de días:** El total de tomas dividido por el máximo de tomas por actor al día."
   ]
  },
  {
   "cell_type": "code",
   "execution_count": 12,
   "id": "2a28e5b4-4b32-4c08-99ce-505d174d867b",
   "metadata": {},
   "outputs": [
    {
     "data": {
      "text/plain": [
       "6"
      ]
     },
     "execution_count": 12,
     "metadata": {},
     "output_type": "execute_result"
    }
   ],
   "source": [
    "max_days = 1 + (len(data) // max_shots)\n",
    "max_days"
   ]
  },
  {
   "cell_type": "markdown",
   "id": "539009eb-f305-4827-b9b7-45395134fcd3",
   "metadata": {},
   "source": [
    "- **Número mínimo de días:** El número de tomas del actor con más participación dividido por el máximo de tomas por actor al día."
   ]
  },
  {
   "cell_type": "code",
   "execution_count": 13,
   "id": "81331404-2a3f-4485-9167-fbce09c48e0a",
   "metadata": {},
   "outputs": [
    {
     "data": {
      "text/plain": [
       "4"
      ]
     },
     "execution_count": 13,
     "metadata": {},
     "output_type": "execute_result"
    }
   ],
   "source": [
    "min_days = 1 + (max(np.sum(data, axis = 0)) // max_shots)\n",
    "min_days"
   ]
  },
  {
   "cell_type": "markdown",
   "id": "9fad8daf-8ea0-4dda-8366-47d810aaad35",
   "metadata": {},
   "source": [
    "Dónde ````data```` es nuestro dataframe de actor por toma"
   ]
  },
  {
   "cell_type": "code",
   "execution_count": 167,
   "id": "ae220689-b757-41cc-832a-ed077f9a5760",
   "metadata": {},
   "outputs": [],
   "source": [
    "def generate_random_solution(data: pd.DataFrame, days_objective: int, max_shots: int = 6):\n",
    "    \n",
    "    random_solution = np.zeros((days_objective, len(data)), dtype=int)  # Inicializar el array soluicón, dónde las filas representan los días, y las columnas las tomas\n",
    "    assigned_days = np.random.randint(0, days_objective, size=len(data))  # Asignar cada toma a un día\n",
    "    \n",
    "    for day, toma in enumerate(assigned_days):\n",
    "        random_solution[toma, day] = 1  # Transformar la asignación de días a formato booleano\n",
    "\n",
    "    return random_solution"
   ]
  },
  {
   "cell_type": "markdown",
   "id": "9b8c7df4-94a5-48b9-8c3f-ec5faf797bd9",
   "metadata": {},
   "source": [
    "Ahora, vamos a diseñar un algoritmo que recorra un bucle hasta encontrar una solución válida. Además, incluiremos un control para tiempos de iteración demasiado largos, que podremos acotar con el parámetro ````max_iter````."
   ]
  },
  {
   "cell_type": "code",
   "execution_count": 168,
   "id": "eab4c4ac-9338-40c6-93b1-6cac09040110",
   "metadata": {},
   "outputs": [],
   "source": [
    "def solve_for_N_days(ndays: int, data, max_iter=1000):\n",
    "    for _ in range(max_iter):\n",
    "        proposed_sol = generate_random_solution(data, days_objective = ndays)\n",
    "        if is_valid(proposed_sol, data):\n",
    "            return proposed_sol\n",
    "\n",
    "    return None"
   ]
  },
  {
   "cell_type": "markdown",
   "id": "bc675d8c-cea9-4eca-9653-78d6182197b3",
   "metadata": {},
   "source": [
    "Y, en caso de no encontrar una solución en ese número de iteraciones, buscaremos una solución con un día más."
   ]
  },
  {
   "cell_type": "code",
   "execution_count": 169,
   "id": "36936b41-266e-4df6-8f81-a7c8b9f3a1d0",
   "metadata": {},
   "outputs": [],
   "source": [
    "def random_solve(data: pd.DataFrame, max_shots=6, max_iter=1000):\n",
    "\n",
    "    # Obtener el número máximo y mínimo de días teóricos\n",
    "    min_days = 1 + (max(np.sum(data, axis = 0)) // max_shots)\n",
    "    max_days = 1 + (len(data) // max_shots)\n",
    "    \n",
    "    # inicialización de la variable de control de días\n",
    "    best_sol_days = 9999999\n",
    "\n",
    "    # loop de búsqueda de soluciones\n",
    "    for ndays in range(min_days, max_days + 1):\n",
    "        solution = solve_for_N_days(ndays, data, max_iter)\n",
    "        if solution is not None:\n",
    "            return ndays, solution "
   ]
  },
  {
   "cell_type": "code",
   "execution_count": 171,
   "id": "83dbc72e-e4ba-46e8-9e0e-765d8adf8fb6",
   "metadata": {
    "scrolled": true
   },
   "outputs": [
    {
     "name": "stdout",
     "output_type": "stream",
     "text": [
      "CPU times: total: 15.6 ms\n",
      "Wall time: 5.98 ms\n"
     ]
    },
    {
     "data": {
      "text/plain": [
       "(4,\n",
       " True,\n",
       " array([[0, 0, 0, 0, 0, 1, 0, 1, 0, 0, 0, 1, 1, 0, 0, 0, 0, 0, 1, 0, 1, 0,\n",
       "         0, 1, 0, 1, 0, 0, 0, 0],\n",
       "        [0, 0, 1, 1, 1, 0, 0, 0, 1, 0, 0, 0, 0, 0, 0, 0, 1, 1, 0, 1, 0, 0,\n",
       "         0, 0, 0, 0, 1, 0, 0, 1],\n",
       "        [0, 0, 0, 0, 0, 0, 1, 0, 0, 1, 1, 0, 0, 1, 1, 1, 0, 0, 0, 0, 0, 1,\n",
       "         0, 0, 0, 0, 0, 0, 0, 0],\n",
       "        [1, 1, 0, 0, 0, 0, 0, 0, 0, 0, 0, 0, 0, 0, 0, 0, 0, 0, 0, 0, 0, 0,\n",
       "         1, 0, 1, 0, 0, 1, 1, 0]]))"
      ]
     },
     "execution_count": 171,
     "metadata": {},
     "output_type": "execute_result"
    }
   ],
   "source": [
    "%%time\n",
    "best_sol_days, best_sol_found = random_solve(data, max_iter=1000)\n",
    "best_sol_days, is_valid(best_sol_found, data), best_sol_found"
   ]
  },
  {
   "cell_type": "markdown",
   "id": "fc1aea80-0d32-43a2-a52d-d6cf215b26e1",
   "metadata": {},
   "source": [
    "Se puede observar cómo el algoritmo random_solve consigue encontrar una solución para grabar todas las tomas en 4 días. De hecho, aproximadamente entre un 6-7% de las soluciones generadas por la función ````generate_random_solution()```` serán válidas para 4 días:"
   ]
  },
  {
   "cell_type": "code",
   "execution_count": 172,
   "id": "5dd9096b-4ede-4634-bc62-af0b423ab519",
   "metadata": {},
   "outputs": [],
   "source": [
    "def percentage_of_good_solutions(ndays, data):\n",
    "    print(f\"Porcentaje de soluciones válidas generadas para {ndays} días:\", sum([is_valid(generate_random_solution(data, days_objective=ndays), data) for _ in range(10000)]) / 100, \"%\")"
   ]
  },
  {
   "cell_type": "code",
   "execution_count": 173,
   "id": "762a7f6e-1303-40b0-bee1-4000cca028cb",
   "metadata": {},
   "outputs": [
    {
     "name": "stdout",
     "output_type": "stream",
     "text": [
      "Porcentaje de soluciones válidas generadas para 1 días: 0.0 %\n",
      "Porcentaje de soluciones válidas generadas para 2 días: 0.0 %\n",
      "Porcentaje de soluciones válidas generadas para 3 días: 0.0 %\n",
      "Porcentaje de soluciones válidas generadas para 4 días: 6.36 %\n",
      "Porcentaje de soluciones válidas generadas para 5 días: 37.29 %\n",
      "Porcentaje de soluciones válidas generadas para 6 días: 63.34 %\n"
     ]
    }
   ],
   "source": [
    "for i in range(1, max_days + 1):\n",
    "    percentage_of_good_solutions(i, data)"
   ]
  },
  {
   "cell_type": "markdown",
   "id": "295108e0-88cf-4e74-845c-8b6fe31428d7",
   "metadata": {},
   "source": [
    "Observamos que efectivamente no se encuentran soluciones para menos de 4 días, y a medida que se incrementan los días, la probabilidad de encontrar una solución es mayor. Con lo que se justifica el hecho de buscar soluciones en un número mayor de días si no se encuentran soluciones para un determinado número de días objetivo."
   ]
  },
  {
   "cell_type": "markdown",
   "id": "167639bf-2c42-4173-85dc-e1151954e53f",
   "metadata": {},
   "source": [
    "__(*)Calcula la complejidad del algoritmo__"
   ]
  },
  {
   "cell_type": "markdown",
   "id": "59c390e5-3a5b-41dd-867d-4d3ffd35a645",
   "metadata": {},
   "source": [
    "Análisis de complejidad:\n",
    "- ````generate_random_solution()````: La complejidad depende del número de tomas de forma lineal\n",
    "\n",
    "    $O(n)$\n",
    "\n",
    "- ````is_valid()````:\n",
    "\n",
    "  \n",
    "\n",
    "- ````solve_for_N_days()````: "
   ]
  },
  {
   "cell_type": "markdown",
   "id": "26e51fe7-e823-4b4f-82d8-89cb967ede67",
   "metadata": {},
   "source": [
    "__Según el problema (y tenga sentido), diseña un juego de datos de entrada aleatorios__"
   ]
  },
  {
   "cell_type": "markdown",
   "id": "0960840f-83e3-4a6c-8715-3c790a56a436",
   "metadata": {},
   "source": [
    "Debemos asegurar que todas las tomas tienen al menos un actor presente. Podemos aprovechar la lógica de la función ````generate_random_solution()````:"
   ]
  },
  {
   "cell_type": "code",
   "execution_count": 174,
   "id": "8768731a-dbab-4b8a-97aa-f5b797b2eeba",
   "metadata": {},
   "outputs": [],
   "source": [
    "def generate_random_dataset(shots: int, actors: int, min_population_fraction: float):\n",
    "\n",
    "    if (min_population_fraction <= 0) or (min_population_fraction > 1):\n",
    "        raise ValueError(\"min_population_fraction should be a value in the range (0, 1]\")\n",
    "    \n",
    "    random_dataset = np.zeros((shots, actors), dtype=int)  # Inicializar el array dataset, dónde las filas representan los tomas, y las columnas los actores\n",
    "    \n",
    "    while (np.sum(random_dataset) / random_dataset.size) < min_population_fraction:  # Asegurar el mínimo de población\n",
    "        assigned_actors_to_shot = np.random.randint(0, actors, size=shots)  # Asignar cada toma a un actor\n",
    "        for shot, actor in enumerate(assigned_actors_to_shot):\n",
    "            random_dataset[shot, actor] = 1\n",
    "\n",
    "    return random_dataset"
   ]
  },
  {
   "cell_type": "code",
   "execution_count": 175,
   "id": "26874e95-1270-4315-955e-3ec6eead2462",
   "metadata": {
    "scrolled": true
   },
   "outputs": [],
   "source": [
    "random_dataset = generate_random_dataset(shots=100, actors=20, min_population_fraction=.001)"
   ]
  },
  {
   "cell_type": "code",
   "execution_count": 176,
   "id": "860fdf91-0d59-41b2-b2ad-df81d8dec201",
   "metadata": {},
   "outputs": [
    {
     "name": "stdout",
     "output_type": "stream",
     "text": [
      "Todas las tomas tienen al menos un actor\n"
     ]
    }
   ],
   "source": [
    "if all(np.sum(random_dataset, axis=1) <= 1):\n",
    "    print(\"Todas las tomas tienen al menos un actor\")\n",
    "else:\n",
    "    print(\"Hay tomas sin actores\")"
   ]
  },
  {
   "cell_type": "markdown",
   "id": "07cb9482-0e40-4fca-8eca-b9e6dbec81e2",
   "metadata": {},
   "source": [
    "__Aplica el algoritmo al juego de datos generado__"
   ]
  },
  {
   "cell_type": "code",
   "execution_count": 177,
   "id": "e180b409-c883-4b7e-ada6-a8cf734d73fc",
   "metadata": {},
   "outputs": [],
   "source": [
    "max_shots = 6\n",
    "max_iter = 10000000"
   ]
  },
  {
   "cell_type": "code",
   "execution_count": 181,
   "id": "9d63a775-9e4e-403f-bdae-072ec8702432",
   "metadata": {},
   "outputs": [],
   "source": [
    "data1 = generate_random_dataset(shots=100, actors=10, min_population_fraction=.4)"
   ]
  },
  {
   "cell_type": "code",
   "execution_count": 182,
   "id": "0e9841ba-6814-4588-8630-73828d7c7a4b",
   "metadata": {},
   "outputs": [
    {
     "data": {
      "text/plain": [
       "8"
      ]
     },
     "execution_count": 182,
     "metadata": {},
     "output_type": "execute_result"
    }
   ],
   "source": [
    "min_days = 1 + (max(np.sum(data1, axis = 0)) // max_shots)\n",
    "min_days"
   ]
  },
  {
   "cell_type": "code",
   "execution_count": null,
   "id": "b00a3320-77d5-4825-9f2b-46df8d9766f4",
   "metadata": {},
   "outputs": [],
   "source": [
    "%%time\n",
    "best_sol_days, best_sol_found = random_solve(data1, max_shots, max_iter)\n",
    "best_sol_days, is_valid(best_sol_found, data1), best_sol_found"
   ]
  },
  {
   "cell_type": "markdown",
   "id": "9273421f-90c0-4d59-aa53-c1a8da035fc7",
   "metadata": {},
   "source": [
    "__Enumera las referencias que has utilizado(si ha sido necesario) para llevar a cabo el trabajo__\n",
    "\n",
    "[1] Alberto Caldas Lima, [Aplicación de algoritmos heurísticos para optimizar el coste de doblaje de películas](http://eio.usc.es/pub/mte/descargas/ProyectosFinMaster/Proyecto_759.pdf)\n",
    "\n",
    "[2] Wikipedia, [Bell Number](https://en.wikipedia.org/wiki/Bell_number)\n",
    "\n",
    "[3] Rajeev Agrawal, [Bell Numbers (Number of ways to Partition a Set)](https://www.geeksforgeeks.org/bell-numbers-number-of-ways-to-partition-a-set/)\n",
    "\n",
    "__Describe brevemente las lineas de como crees que es posible avanzar en el estudio del problema. Ten en cuenta incluso posibles variaciones del problema y/o variaciones al alza del tamaño__\n",
    "\n",
    "Respuesta"
   ]
  },
  {
   "cell_type": "code",
   "execution_count": null,
   "id": "850b6ad7-0bc8-49a8-ac2c-be17d6c6161b",
   "metadata": {},
   "outputs": [],
   "source": [
    "\n",
    "    "
   ]
  }
 ],
 "metadata": {
  "kernelspec": {
   "display_name": "Python 3 (ipykernel)",
   "language": "python",
   "name": "python3"
  },
  "language_info": {
   "codemirror_mode": {
    "name": "ipython",
    "version": 3
   },
   "file_extension": ".py",
   "mimetype": "text/x-python",
   "name": "python",
   "nbconvert_exporter": "python",
   "pygments_lexer": "ipython3",
   "version": "3.11.9"
  }
 },
 "nbformat": 4,
 "nbformat_minor": 5
}
